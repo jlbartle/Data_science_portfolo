{
 "cells": [
  {
   "cell_type": "code",
   "execution_count": 28,
   "source": [
    "# Calls in the packages used for the downloading of information from\n",
    "# Open FDA's website\n",
    "import wget\n",
    "import requests"
   ],
   "outputs": [],
   "metadata": {}
  },
  {
   "cell_type": "code",
   "execution_count": 14,
   "source": [
    "URL = 'https://api.fda.gov/download.json' #list of all the FDA Files\n",
    "\n",
    "#Link to where I want the data saved\n",
    "Savelocation = 'J:\\My Drive\\Graduate School\\IST718 Big Data Analysis\\Final Project\\Files'"
   ],
   "outputs": [],
   "metadata": {}
  },
  {
   "cell_type": "code",
   "execution_count": 15,
   "source": [
    "# Calls the downloads list as a JSON and formats the data as a string\n",
    "downloads = requests.get(URL).json()\n",
    "drug_events = downloads.get('results', {}).get('drug', {}).get('event', {}).get('partitions', [])\n"
   ],
   "outputs": [],
   "metadata": {}
  },
  {
   "cell_type": "code",
   "execution_count": null,
   "source": [
    "# Pulls the file path the JSON String and downloads the file\r\n",
    "# Zip files are renamed at download appending the quarter \r\n",
    "# This is done to not allow the data to be overwritten by files with the same name\r\n",
    "for event in drug_events:\r\n",
    "   zip_url = event.get('file', None)\r\n",
    "   nmbr = zip_url.rfind('/')\r\n",
    "   wget.download(zip_url, zip_url[41:nmbr]+'-'+zip_url[nmbr+1:])"
   ],
   "outputs": [],
   "metadata": {}
  },
  {
   "cell_type": "code",
   "execution_count": 49,
   "source": [
    "# Import OS Package and Zip File package\r\n",
    "# They will be used to unzip the downloaded JSON Files\r\n",
    "import os, zipfile"
   ],
   "outputs": [],
   "metadata": {}
  },
  {
   "cell_type": "code",
   "execution_count": 67,
   "source": [
    "# This block loops through the zipped files, collects the file name\r\n",
    "# The file is then renamed to the zip folder\r\n",
    "# Note this works because there is only 1 JSON file in each compressed Fold\r\n",
    "# The file is then unzip into a side directory\r\n",
    "for item in os.listdir(r'J:\\My Drive\\Graduate School\\IST718 Big Data Analysis\\Final Project\\Files'):\r\n",
    "    if item.endswith(\".zip\"):\r\n",
    "        file_name = os.path.abspath(item)\r\n",
    "        zip_ref = zipfile.ZipFile(file_name)\r\n",
    "        zip_info = zip_ref.infolist()\r\n",
    "        for info in zip_info:\r\n",
    "            info.filename = file_name[file_name.rfind('\\\\')+1:file_name.rfind('.zip')]\r\n",
    "            zip_ref.extract(info, path=r'J:\\My Drive\\Graduate School\\IST718 Big Data Analysis\\Final Project\\Unzipped Files')"
   ],
   "outputs": [],
   "metadata": {}
  },
  {
   "cell_type": "code",
   "execution_count": null,
   "source": [],
   "outputs": [],
   "metadata": {}
  }
 ],
 "metadata": {
  "orig_nbformat": 4,
  "language_info": {
   "name": "python",
   "version": "3.8.5",
   "mimetype": "text/x-python",
   "codemirror_mode": {
    "name": "ipython",
    "version": 3
   },
   "pygments_lexer": "ipython3",
   "nbconvert_exporter": "python",
   "file_extension": ".py"
  },
  "kernelspec": {
   "name": "python3",
   "display_name": "Python 3.8.5 64-bit ('base': conda)"
  },
  "interpreter": {
   "hash": "74ecdb5788cb7deb97f5afe576cacc963ac1f43a488ddf01682c97da661b9a1b"
  }
 },
 "nbformat": 4,
 "nbformat_minor": 2
}