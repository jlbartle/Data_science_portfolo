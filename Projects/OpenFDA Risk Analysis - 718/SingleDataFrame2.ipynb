{
 "cells": [
  {
   "cell_type": "markdown",
   "metadata": {
    "id": "JY6zAksmbR0q"
   },
   "source": [
    "# Bringing the Data Back Together\n",
    "\n",
    "Using Dask we'll start to do some analysis on the data."
   ]
  },
  {
   "cell_type": "code",
   "execution_count": 1,
   "metadata": {
    "colab": {
     "base_uri": "https://localhost:8080/",
     "height": 623
    },
    "executionInfo": {
     "elapsed": 255,
     "status": "error",
     "timestamp": 1639259287040,
     "user": {
      "displayName": "Kyle Walter",
      "photoUrl": "https://lh3.googleusercontent.com/a/default-user=s64",
      "userId": "12706387767828091719"
     },
     "user_tz": 300
    },
    "id": "ljVuzmXQbZ1R",
    "outputId": "94642792-bfee-40de-92cb-a2f4a2a0f746"
   },
   "outputs": [],
   "source": [
    "# Load the packages need for work\n",
    "import dask\n",
    "import dask.dataframe as dd\n",
    "# FDA adverse drug events analysis\n",
    "\n",
    "# imports\n",
    "import pandas as pd\n",
    "import numpy as np\n",
    "import json\n",
    "import datetime as datetime\n",
    "import requests\n",
    "\n",
    "#sklearn\n",
    "from sklearn.model_selection import GridSearchCV, train_test_split\n",
    "from sklearn.naive_bayes import MultinomialNB\n",
    "from sklearn.metrics import classification_report, confusion_matrix\n",
    "from sklearn.preprocessing import StandardScaler\n",
    "from sklearn.pipeline import Pipeline\n",
    "\n",
    "# visualization imports\n",
    "import matplotlib.pyplot as plt\n",
    "import plotly.express as px\n",
    "import seaborn as sns"
   ]
  },
  {
   "cell_type": "code",
   "execution_count": 2,
   "metadata": {
    "colab": {
     "base_uri": "https://localhost:8080/",
     "height": 165
    },
    "executionInfo": {
     "elapsed": 247,
     "status": "error",
     "timestamp": 1639259159598,
     "user": {
      "displayName": "Kyle Walter",
      "photoUrl": "https://lh3.googleusercontent.com/a/default-user=s64",
      "userId": "12706387767828091719"
     },
     "user_tz": 300
    },
    "id": "wkVfuWcJcKRk",
    "outputId": "a29907e8-55df-4217-d871-e8ef89e62c06"
   },
   "outputs": [
    {
     "name": "stdout",
     "output_type": "stream",
     "text": [
      "Wall time: 3min 41s\n"
     ]
    },
    {
     "data": {
      "text/plain": "Index(['safetyreportid', 'serious', 'receiptdate', 'occurcountry',\n       'seriousnesshospitalization', 'primarysource.qualification',\n       'patient.patientonsetage', 'patient.patientweight',\n       'patient.patientsex', 'seriousnessother', 'seriousnesslifethreatening',\n       'seriousnessdeath', 'seriousnesscongenitalanomali',\n       'seriousnessdisabling', 'reactionmedrapt', 'medicinalproduct'],\n      dtype='object')"
     },
     "execution_count": 2,
     "metadata": {},
     "output_type": "execute_result"
    }
   ],
   "source": [
    "%%time\n",
    "df = pd.read_csv('consolidatedData.csv',\n",
    "        dtype={'authoritynumb': 'object',\n",
    "       'patient.patientagegroup': 'float64',\n",
    "       'patient.patientonsetage': 'float64',\n",
    "       'patient.patientonsetageunit': 'float64',\n",
    "       'patient.patientsex': 'float64',\n",
    "       'seriousnesshospitalization': 'float64',\n",
    "       'safetyreportid': 'object',\n",
    "        'medicinalproduct':'object',\n",
    "        'reactionmedrapt':'object'})\n",
    "\n",
    "df = df.drop(columns = ['authoritynumb', 'companynumb','reportduplicate.duplicatesource',\n",
    "                                'patient.patientonsetageunit','patient.patientagegroup','primarysourcecountry','V1','index', 'receiver'])\n",
    "df.columns"
   ]
  },
  {
   "cell_type": "code",
   "execution_count": 3,
   "metadata": {},
   "outputs": [
    {
     "name": "stdout",
     "output_type": "stream",
     "text": [
      "<class 'pandas.core.frame.DataFrame'>\n",
      "Int64Index: 18256574 entries, 0 to 56282238\n",
      "Data columns (total 16 columns):\n",
      " #   Column                        Dtype \n",
      "---  ------                        ----- \n",
      " 0   safetyreportid                object\n",
      " 1   serious                       int64 \n",
      " 2   receiptdate                   object\n",
      " 3   occurcountry                  object\n",
      " 4   seriousnesshospitalization    bool  \n",
      " 5   primarysource.qualification   int64 \n",
      " 6   patient.patientonsetage       int32 \n",
      " 7   patient.patientweight         int32 \n",
      " 8   patient.patientsex            int32 \n",
      " 9   seriousnessother              bool  \n",
      " 10  seriousnesslifethreatening    bool  \n",
      " 11  seriousnessdeath              bool  \n",
      " 12  seriousnesscongenitalanomali  bool  \n",
      " 13  seriousnessdisabling          bool  \n",
      " 14  reactionmedrapt               object\n",
      " 15  medicinalproduct              object\n",
      "dtypes: bool(6), int32(3), int64(2), object(5)\n",
      "memory usage: 1.4+ GB\n",
      "Wall time: 32.8 s\n"
     ]
    }
   ],
   "source": [
    "%%time\n",
    "\n",
    "# replace nan ages with -1\n",
    "df['patient.patientonsetage'] = df['patient.patientonsetage'].fillna(-1)\n",
    "# filter ages drop every age over 115 (probably reporting anomalies)\n",
    "df = df.loc[df['patient.patientonsetage'] < 115]\n",
    "# convert ages to ints\n",
    "df['patient.patientonsetage'] = df['patient.patientonsetage'].astype(int)\n",
    "df = df.loc[df['patient.patientonsetage'] >= 0]\n",
    "\n",
    "# replace nan weights with -1\n",
    "df['patient.patientweight'] = df['patient.patientweight'].fillna(-1)\n",
    "# filter weights drop every weight over 635kg (the heaviest man ever) (probably reporting anomalies)\n",
    "df = df.loc[df['patient.patientweight'] < 635]\n",
    "# converting to int where floats aren't needed\n",
    "df['patient.patientweight'] = df['patient.patientweight'].astype(int)\n",
    "df = df.loc[df['patient.patientweight'] >= 0]\n",
    "# replace nan sex with -1\n",
    "df['patient.patientsex'] = df['patient.patientsex'].fillna(-1)\n",
    "# converting to int where floats aren't needed\n",
    "df['patient.patientsex'] = df['patient.patientsex'].astype(int)\n",
    "df = df.loc[df['patient.patientsex']>=0]\n",
    "\n",
    "# convert potential bool values\n",
    "# fill nan with 0\n",
    "# big caveat with these conversions FALSE could indicate UNREPORTED data not just FALSE\n",
    "df[['seriousnesshospitalization', 'seriousnessother','seriousnesslifethreatening', 'seriousnessdeath',\n",
    "       'seriousnesscongenitalanomali', 'seriousnessdisabling']] = \\\n",
    "       df[['seriousnesshospitalization', 'seriousnessother','seriousnesslifethreatening', 'seriousnessdeath',\n",
    "              'seriousnesscongenitalanomali', 'seriousnessdisabling']].fillna(0)\n",
    "\n",
    "# convert 1/0 columns to bol\n",
    "df[['seriousnesshospitalization', 'seriousnessother','seriousnesslifethreatening', 'seriousnessdeath',\n",
    "       'seriousnesscongenitalanomali', 'seriousnessdisabling']] = \\\n",
    "       df[['seriousnesshospitalization', 'seriousnessother','seriousnesslifethreatening', 'seriousnessdeath',\n",
    "              'seriousnesscongenitalanomali', 'seriousnessdisabling']].astype('bool')\n",
    "\n",
    "# convert receipt date to datetime\n",
    "df['receiptdate'] = pd.to_datetime(df['receiptdate'],format='%Y%m%d')\n",
    "df['receiptdate'] = df['receiptdate'].dt.date\n",
    "\n",
    "df.info()"
   ]
  },
  {
   "cell_type": "code",
   "execution_count": 4,
   "metadata": {},
   "outputs": [
    {
     "name": "stdout",
     "output_type": "stream",
     "text": [
      "Wall time: 4.26 s\n"
     ]
    },
    {
     "data": {
      "text/plain": "                              seriousnesshospitalization  seriousnessother  \\\nseriousnesshospitalization                      1.000000         -0.121319   \nseriousnessother                               -0.121319          1.000000   \nseriousnesslifethreatening                      0.116025          0.035880   \nseriousnessdeath                                0.091714         -0.013941   \nseriousnesscongenitalanomali                   -0.005311          0.013394   \nseriousnessdisabling                           -0.013320          0.040983   \nserious                                        -0.364986         -0.386604   \n\n                              seriousnesslifethreatening  seriousnessdeath  \\\nseriousnesshospitalization                      0.116025          0.091714   \nseriousnessother                                0.035880         -0.013941   \nseriousnesslifethreatening                      1.000000          0.168128   \nseriousnessdeath                                0.168128          1.000000   \nseriousnesscongenitalanomali                    0.020244          0.017384   \nseriousnessdisabling                            0.109289         -0.013459   \nserious                                        -0.107490         -0.120924   \n\n                              seriousnesscongenitalanomali  \\\nseriousnesshospitalization                       -0.005311   \nseriousnessother                                  0.013394   \nseriousnesslifethreatening                        0.020244   \nseriousnessdeath                                  0.017384   \nseriousnesscongenitalanomali                      1.000000   \nseriousnessdisabling                              0.032064   \nserious                                          -0.019947   \n\n                              seriousnessdisabling   serious  \nseriousnesshospitalization               -0.013320 -0.364986  \nseriousnessother                          0.040983 -0.386604  \nseriousnesslifethreatening                0.109289 -0.107490  \nseriousnessdeath                         -0.013459 -0.120924  \nseriousnesscongenitalanomali              0.032064 -0.019947  \nseriousnessdisabling                      1.000000 -0.072624  \nserious                                  -0.072624  1.000000  ",
      "text/html": "<div>\n<style scoped>\n    .dataframe tbody tr th:only-of-type {\n        vertical-align: middle;\n    }\n\n    .dataframe tbody tr th {\n        vertical-align: top;\n    }\n\n    .dataframe thead th {\n        text-align: right;\n    }\n</style>\n<table border=\"1\" class=\"dataframe\">\n  <thead>\n    <tr style=\"text-align: right;\">\n      <th></th>\n      <th>seriousnesshospitalization</th>\n      <th>seriousnessother</th>\n      <th>seriousnesslifethreatening</th>\n      <th>seriousnessdeath</th>\n      <th>seriousnesscongenitalanomali</th>\n      <th>seriousnessdisabling</th>\n      <th>serious</th>\n    </tr>\n  </thead>\n  <tbody>\n    <tr>\n      <th>seriousnesshospitalization</th>\n      <td>1.000000</td>\n      <td>-0.121319</td>\n      <td>0.116025</td>\n      <td>0.091714</td>\n      <td>-0.005311</td>\n      <td>-0.013320</td>\n      <td>-0.364986</td>\n    </tr>\n    <tr>\n      <th>seriousnessother</th>\n      <td>-0.121319</td>\n      <td>1.000000</td>\n      <td>0.035880</td>\n      <td>-0.013941</td>\n      <td>0.013394</td>\n      <td>0.040983</td>\n      <td>-0.386604</td>\n    </tr>\n    <tr>\n      <th>seriousnesslifethreatening</th>\n      <td>0.116025</td>\n      <td>0.035880</td>\n      <td>1.000000</td>\n      <td>0.168128</td>\n      <td>0.020244</td>\n      <td>0.109289</td>\n      <td>-0.107490</td>\n    </tr>\n    <tr>\n      <th>seriousnessdeath</th>\n      <td>0.091714</td>\n      <td>-0.013941</td>\n      <td>0.168128</td>\n      <td>1.000000</td>\n      <td>0.017384</td>\n      <td>-0.013459</td>\n      <td>-0.120924</td>\n    </tr>\n    <tr>\n      <th>seriousnesscongenitalanomali</th>\n      <td>-0.005311</td>\n      <td>0.013394</td>\n      <td>0.020244</td>\n      <td>0.017384</td>\n      <td>1.000000</td>\n      <td>0.032064</td>\n      <td>-0.019947</td>\n    </tr>\n    <tr>\n      <th>seriousnessdisabling</th>\n      <td>-0.013320</td>\n      <td>0.040983</td>\n      <td>0.109289</td>\n      <td>-0.013459</td>\n      <td>0.032064</td>\n      <td>1.000000</td>\n      <td>-0.072624</td>\n    </tr>\n    <tr>\n      <th>serious</th>\n      <td>-0.364986</td>\n      <td>-0.386604</td>\n      <td>-0.107490</td>\n      <td>-0.120924</td>\n      <td>-0.019947</td>\n      <td>-0.072624</td>\n      <td>1.000000</td>\n    </tr>\n  </tbody>\n</table>\n</div>"
     },
     "execution_count": 4,
     "metadata": {},
     "output_type": "execute_result"
    }
   ],
   "source": [
    "%%time\n",
    "df[[ 'seriousnesshospitalization','seriousnessother', 'seriousnesslifethreatening',\n",
    "       'seriousnessdeath', 'seriousnesscongenitalanomali',\n",
    "       'seriousnessdisabling','serious']].corr()"
   ]
  },
  {
   "cell_type": "code",
   "execution_count": 5,
   "metadata": {},
   "outputs": [
    {
     "name": "stdout",
     "output_type": "stream",
     "text": [
      "Total Number of Reaction Categories:  13946\n",
      "average of the times reported:  1309.0903484870214\n",
      "High number of times reported:  256604\n",
      "Lowest number of times reported:  1\n",
      "Wall time: 1.75 s\n"
     ]
    }
   ],
   "source": [
    "%%time\n",
    "topReactions = df['reactionmedrapt'].value_counts()\n",
    "\n",
    "print(\"Total Number of Reaction Categories: \", len(topReactions))\n",
    "print(\"average of the times reported: \",np.mean(topReactions))\n",
    "print(\"High number of times reported: \", max(topReactions))\n",
    "print(\"Lowest number of times reported: \", min(topReactions))\n"
   ]
  },
  {
   "cell_type": "code",
   "execution_count": 6,
   "metadata": {
    "id": "yDWPbpzNdboZ"
   },
   "outputs": [
    {
     "name": "stdout",
     "output_type": "stream",
     "text": [
      "Wall time: 1e+03 µs\n"
     ]
    },
    {
     "data": {
      "text/plain": "['Diarrhoea',\n 'Nausea',\n 'Dyspnoea',\n 'Fatigue',\n 'Pyrexia',\n 'Pneumonia',\n 'Vomiting',\n 'Headache',\n 'Acute kidney injury',\n 'Off label use',\n 'Death']"
     },
     "execution_count": 6,
     "metadata": {},
     "output_type": "execute_result"
    }
   ],
   "source": [
    "%%time\n",
    "\n",
    "#list of most commonly reported reactions\n",
    "topReactions = topReactions[:10]\n",
    "topReactions = topReactions.index\n",
    "topReactions = list(topReactions)\n",
    "topReactions.append('Death')\n",
    "topReactions"
   ]
  },
  {
   "cell_type": "code",
   "execution_count": 7,
   "metadata": {},
   "outputs": [
    {
     "name": "stdout",
     "output_type": "stream",
     "text": [
      "<class 'pandas.core.frame.DataFrame'>\n",
      "Int64Index: 2050287 entries, 199 to 56281900\n",
      "Data columns (total 16 columns):\n",
      " #   Column                        Dtype \n",
      "---  ------                        ----- \n",
      " 0   safetyreportid                object\n",
      " 1   serious                       int64 \n",
      " 2   receiptdate                   object\n",
      " 3   occurcountry                  object\n",
      " 4   seriousnesshospitalization    bool  \n",
      " 5   primarysource.qualification   int64 \n",
      " 6   patient.patientonsetage       int32 \n",
      " 7   patient.patientweight         int32 \n",
      " 8   patient.patientsex            int32 \n",
      " 9   seriousnessother              bool  \n",
      " 10  seriousnesslifethreatening    bool  \n",
      " 11  seriousnessdeath              bool  \n",
      " 12  seriousnesscongenitalanomali  bool  \n",
      " 13  seriousnessdisabling          bool  \n",
      " 14  reactionmedrapt               object\n",
      " 15  medicinalproduct              object\n",
      "dtypes: bool(6), int32(3), int64(2), object(5)\n",
      "memory usage: 160.3+ MB\n",
      "Wall time: 1.28 s\n"
     ]
    }
   ],
   "source": [
    "%%time\n",
    "#filter the list by topReactions\n",
    "df = df[df['reactionmedrapt'].isin(topReactions)]\n",
    "df.info()"
   ]
  },
  {
   "cell_type": "code",
   "execution_count": 8,
   "metadata": {},
   "outputs": [
    {
     "name": "stdout",
     "output_type": "stream",
     "text": [
      "<class 'pandas.core.frame.DataFrame'>\n",
      "Int64Index: 1275717 entries, 204 to 56281900\n",
      "Data columns (total 16 columns):\n",
      " #   Column                        Non-Null Count    Dtype \n",
      "---  ------                        --------------    ----- \n",
      " 0   safetyreportid                1275717 non-null  object\n",
      " 1   serious                       1275717 non-null  int64 \n",
      " 2   receiptdate                   1275717 non-null  object\n",
      " 3   occurcountry                  1269650 non-null  object\n",
      " 4   seriousnesshospitalization    1275717 non-null  bool  \n",
      " 5   primarysource.qualification   1275717 non-null  int64 \n",
      " 6   patient.patientonsetage       1275717 non-null  int32 \n",
      " 7   patient.patientweight         1275717 non-null  int32 \n",
      " 8   patient.patientsex            1275717 non-null  int32 \n",
      " 9   seriousnessother              1275717 non-null  bool  \n",
      " 10  seriousnesslifethreatening    1275717 non-null  bool  \n",
      " 11  seriousnessdeath              1275717 non-null  bool  \n",
      " 12  seriousnesscongenitalanomali  1275717 non-null  bool  \n",
      " 13  seriousnessdisabling          1275717 non-null  bool  \n",
      " 14  reactionmedrapt               1275717 non-null  object\n",
      " 15  medicinalproduct              1275717 non-null  object\n",
      "dtypes: bool(6), int32(3), int64(2), object(5)\n",
      "memory usage: 99.8+ MB\n"
     ]
    }
   ],
   "source": [
    "topMeds = df['medicinalproduct'].value_counts()\n",
    "topMeds = topMeds[:500]\n",
    "topMeds = topMeds.index\n",
    "df = df[df['medicinalproduct'].isin(topMeds)]\n",
    "df.info()"
   ]
  },
  {
   "cell_type": "code",
   "execution_count": 9,
   "metadata": {},
   "outputs": [],
   "source": [
    "df['observation'] = 1\n",
    "\n",
    "df= df.pivot_table(index=['safetyreportid', 'serious', 'receiptdate', 'occurcountry',\n",
    "       'seriousnesshospitalization', 'primarysource.qualification',\n",
    "       'patient.patientonsetage', 'patient.patientweight',\n",
    "       'patient.patientsex', 'seriousnessother', 'seriousnesslifethreatening',\n",
    "       'seriousnessdeath', 'seriousnesscongenitalanomali',\n",
    "       'seriousnessdisabling', 'reactionmedrapt'], columns='medicinalproduct', values='observation', fill_value=0).reset_index()"
   ]
  },
  {
   "cell_type": "code",
   "execution_count": 10,
   "metadata": {},
   "outputs": [
    {
     "data": {
      "text/plain": "Nausea                 0.120706\nDiarrhoea              0.120159\nDyspnoea               0.117137\nFatigue                0.100006\nVomiting               0.087874\nOff label use          0.086249\nHeadache               0.084480\nPyrexia                0.083401\nPneumonia              0.077407\nAcute kidney injury    0.069759\nDeath                  0.052821\nName: reactionmedrapt, dtype: float64"
     },
     "execution_count": 10,
     "metadata": {},
     "output_type": "execute_result"
    }
   ],
   "source": [
    "df['reactionmedrapt'].value_counts(normalize=True)"
   ]
  },
  {
   "cell_type": "code",
   "execution_count": 11,
   "metadata": {},
   "outputs": [
    {
     "name": "stdout",
     "output_type": "stream",
     "text": [
      "                     precision    recall  f1-score   support\n",
      "\n",
      "Acute kidney injury    0.27145   0.42059   0.32995      9432\n",
      "              Death    0.13463   0.36676   0.19696      7111\n",
      "          Diarrhoea    0.21646   0.18501   0.19950     16194\n",
      "           Dyspnoea    0.23503   0.16119   0.19123     15733\n",
      "            Fatigue    0.20286   0.13984   0.16555     13473\n",
      "           Headache    0.17211   0.28466   0.21452     11431\n",
      "             Nausea    0.18478   0.04863   0.07700     16223\n",
      "      Off label use    0.23568   0.43953   0.30683     11626\n",
      "          Pneumonia    0.21538   0.17996   0.19608     10430\n",
      "            Pyrexia    0.23325   0.21542   0.22398     11294\n",
      "           Vomiting    0.20097   0.04915   0.07898     11862\n",
      "\n",
      "           accuracy                        0.20798    134809\n",
      "          macro avg    0.20933   0.22643   0.19824    134809\n",
      "       weighted avg    0.21084   0.20798   0.19111    134809\n",
      "\n",
      "                     precision    recall  f1-score   support\n",
      "\n",
      "Acute kidney injury    0.27619   0.42941   0.33617      4604\n",
      "              Death    0.13650   0.37049   0.19949      3517\n",
      "          Diarrhoea    0.21435   0.18189   0.19679      7983\n",
      "           Dyspnoea    0.23672   0.15812   0.18959      7836\n",
      "            Fatigue    0.18555   0.12784   0.15138      6649\n",
      "           Headache    0.16989   0.28382   0.21255      5567\n",
      "             Nausea    0.17633   0.04526   0.07203      8064\n",
      "      Off label use    0.23323   0.43575   0.30383      5728\n",
      "          Pneumonia    0.20053   0.17570   0.18730      5145\n",
      "            Pyrexia    0.21672   0.20029   0.20818      5487\n",
      "           Vomiting    0.17869   0.04468   0.07149      5819\n",
      "\n",
      "           accuracy                        0.20369     66399\n",
      "          macro avg    0.20225   0.22302   0.19353     66399\n",
      "       weighted avg    0.20355   0.20369   0.18583     66399\n",
      "\n"
     ]
    },
    {
     "data": {
      "text/plain": "<Figure size 432x288 with 3 Axes>",
      "image/png": "[encoded data removed]"
     },
     "metadata": {
      "needs_background": "light"
     },
     "output_type": "display_data"
    }
   ],
   "source": [
    "modelData = df.iloc[:,np.r_[14,6:9,15:515]]\n",
    "dfTrain, dfTest = train_test_split(modelData, test_size=.33, random_state=19, shuffle=True)\n",
    "\n",
    "x_train = dfTrain.iloc[:,1:]\n",
    "y_train = dfTrain.iloc[:,0]\n",
    "x_test = dfTest.iloc[:,1:]\n",
    "y_test = dfTest.iloc[:,0]\n",
    "\n",
    "nb = MultinomialNB()\n",
    "\n",
    "nb.fit(x_train, y_train)\n",
    "y_pred = nb.predict(x_test)\n",
    "\n",
    "sns.heatmap(confusion_matrix(y_train,nb.predict(x_train)))\n",
    "print(classification_report(y_train,nb.predict(x_train), digits=5))\n",
    "\n",
    "sns.heatmap(confusion_matrix(y_test,y_pred))\n",
    "print(classification_report(y_test, y_pred, digits=5))"
   ]
  },
  {
   "cell_type": "code",
   "execution_count": 12,
   "metadata": {},
   "outputs": [
    {
     "name": "stdout",
     "output_type": "stream",
     "text": [
      "                     precision    recall  f1-score   support\n",
      "\n",
      "Acute kidney injury    0.87139   0.88285   0.87708      9432\n",
      "              Death    0.87688   0.87034   0.87360      7111\n",
      "          Diarrhoea    0.69810   0.69668   0.69739     16194\n",
      "           Dyspnoea    0.75566   0.76743   0.76150     15733\n",
      "            Fatigue    0.69694   0.69420   0.69557     13473\n",
      "           Headache    0.66943   0.67711   0.67325     11431\n",
      "             Nausea    0.63223   0.63410   0.63316     16223\n",
      "      Off label use    0.87420   0.88225   0.87821     11626\n",
      "          Pneumonia    0.83291   0.82205   0.82745     10430\n",
      "            Pyrexia    0.76072   0.75890   0.75981     11294\n",
      "           Vomiting    0.63733   0.61836   0.62770     11862\n",
      "\n",
      "           accuracy                        0.74171    134809\n",
      "          macro avg    0.75507   0.75493   0.75497    134809\n",
      "       weighted avg    0.74142   0.74171   0.74153    134809\n",
      "\n",
      "                     precision    recall  f1-score   support\n",
      "\n",
      "Acute kidney injury    0.44897   0.49783   0.47214      4604\n",
      "              Death    0.24380   0.19278   0.21531      3517\n",
      "          Diarrhoea    0.18314   0.18314   0.18314      7983\n",
      "           Dyspnoea    0.25012   0.26595   0.25779      7836\n",
      "            Fatigue    0.15265   0.14333   0.14784      6649\n",
      "           Headache    0.14499   0.14334   0.14416      5567\n",
      "             Nausea    0.12236   0.13095   0.12651      8064\n",
      "      Off label use    0.35602   0.36802   0.36192      5728\n",
      "          Pneumonia    0.22761   0.20894   0.21788      5145\n",
      "            Pyrexia    0.21982   0.21906   0.21944      5487\n",
      "           Vomiting    0.12349   0.12115   0.12231      5819\n",
      "\n",
      "           accuracy                        0.21707     66399\n",
      "          macro avg    0.22482   0.22495   0.22440     66399\n",
      "       weighted avg    0.21522   0.21707   0.21580     66399\n",
      "\n"
     ]
    },
    {
     "data": {
      "text/plain": "<Figure size 432x288 with 3 Axes>",
      "image/png": "[encoded data removed]"
     },
     "metadata": {
      "needs_background": "light"
     },
     "output_type": "display_data"
    }
   ],
   "source": [
    "from sklearn.ensemble import RandomForestClassifier\n",
    "\n",
    "rf_clf = RandomForestClassifier()\n",
    "\n",
    "rf_clf.fit(x_train, y_train)\n",
    "y_pred = rf_clf.predict(x_test)\n",
    "\n",
    "sns.heatmap(confusion_matrix(y_train,rf_clf.predict(x_train)))\n",
    "print(classification_report(y_train,rf_clf.predict(x_train), digits=5))\n",
    "\n",
    "sns.heatmap(confusion_matrix(y_test,y_pred))\n",
    "print(classification_report(y_test, y_pred, digits=5))"
   ]
  },
  {
   "cell_type": "code",
   "execution_count": 12,
   "metadata": {},
   "outputs": [],
   "source": []
  }
 ],
 "metadata": {
  "colab": {
   "name": "SingleDataFrame.ipynb",
   "provenance": []
  },
  "kernelspec": {
   "display_name": "Python 3",
   "name": "python3"
  },
  "language_info": {
   "codemirror_mode": {
    "name": "ipython",
    "version": 3
   },
   "file_extension": ".py",
   "mimetype": "text/x-python",
   "name": "python",
   "nbconvert_exporter": "python",
   "pygments_lexer": "ipython3",
   "version": "3.8.8"
  }
 },
 "nbformat": 4,
 "nbformat_minor": 0
}