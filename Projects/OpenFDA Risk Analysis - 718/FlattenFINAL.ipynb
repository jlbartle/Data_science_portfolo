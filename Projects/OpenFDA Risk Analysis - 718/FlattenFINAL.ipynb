{
 "cells": [
  {
   "cell_type": "markdown",
   "source": [
    "Flatten the Data from the JSON Files"
   ],
   "metadata": {
    "collapsed": false,
    "pycharm": {
     "name": "#%% md\n"
    }
   }
  },
  {
   "cell_type": "code",
   "execution_count": null,
   "metadata": {
    "collapsed": true
   },
   "outputs": [],
   "source": [
    "\n",
    "import os\n",
    "import pandas as pd\n",
    "import json\n",
    "from google.colab import drive\n",
    "\n",
    "drive.mount('/content/drive')\n",
    "#Where files live\n",
    "os.chdir(\n",
    "    r'/content/drive/MyDrive/Graduate School/IST718 Big Data Analysis/Final Project/Unzipped Files/Starter File/Subset')\n",
    "path = '/content/drive/MyDrive/Graduate School/IST718 Big Data Analysis/Final Project/Unzipped Files/Starter File/Subset'\n",
    "savedir = '/content/drive/MyDrive/Graduate School/IST718 Big Data Analysis/Final Project/flattenedOutput'\n",
    "\n",
    "#The loop to end all loops\n",
    "path = os.getcwd()\n",
    "for subdir, dirs, files in os.walk(path):\n",
    "    for f in files:\n",
    "        medicines = []  #list to collect medicines in the report\n",
    "        reactions = []  #list to collect recations in the report\n",
    "        if f.endswith('.json'):\n",
    "            with open(os.path.join(subdir, f)) as data_file:\n",
    "                d = json.load(data_file)\n",
    "                df = pd.json_normalize(d['results'], max_level=None)\n",
    "                del data_file\n",
    "                del d\n",
    "                #Flatten Additional Columns\n",
    "                df['patient.reaction'] = df['patient.reaction'].apply(lambda x: pd.json_normalize(x))\n",
    "                df['patient.drug'] = df['patient.drug'].apply(lambda x: pd.json_normalize(x))\n",
    "                df = df.drop(\n",
    "                    columns=['reporttype', 'safetyreportversion', 'receivedateformat', 'transmissiondateformat',\n",
    "                             'fulfillexpeditecriteria', 'receiptdateformat', 'duplicate', 'receivedate',\n",
    "                             'transmissiondate',\n",
    "                             'primarysource.reportercountry', 'reportduplicate.duplicatenumb', 'receiver.receivertype',\n",
    "                             'receiver.receiverorganization', 'sender.sendertype', 'sender.senderorganization',\n",
    "                             'patient.summary.narrativeincludeclinical', 'primarysource.literaturereference'])\n",
    "                df = df[(df['primarysource.qualification'] == '3') | (df['primarysource.qualification'] == '2') | (\n",
    "                            df['primarysource.qualification'] == '1')].reset_index()\n",
    "\n",
    "                #Collect the Medicines\n",
    "                for i in range(0, len(df['safetyreportid'])):\n",
    "                    report = pd.DataFrame(df['patient.drug'][i])\n",
    "                    for l in range(0, len(report['medicinalproduct'])):\n",
    "                        d = {'safetyreportid': df['safetyreportid'][i],\n",
    "                             'medicinalproduct': report['medicinalproduct'][l]}\n",
    "                        medicines.append(d)\n",
    "\n",
    "                #Collect the Reactions\n",
    "                for i in range(0, len(df['safetyreportid'])):\n",
    "                    report = pd.DataFrame(df['patient.reaction'][i])\n",
    "                    for l in range(0, len(report['reactionmeddrapt'])):\n",
    "                        d = {'safetyreportid': df['safetyreportid'][i],\n",
    "                             'reactionmedrapt': report['reactionmeddrapt'][l]}\n",
    "                        reactions.append(d)\n",
    "                df = df.drop(columns=['patient.drug', 'patient.reaction'])\n",
    "                del d\n",
    "                print(f)\n",
    "                m = pd.DataFrame(medicines)\n",
    "                r = pd.DataFrame(reactions)\n",
    "                df = df.merge(r, how='left', on='safetyreportid')\n",
    "                df = df.merge(m, how='left', on='safetyreportid')\n",
    "                df.to_csv(os.path.join(savedir, f[:-5] + '.csv'))\n",
    "                del df\n",
    "                del r\n",
    "                del m"
   ]
  },
  {
   "cell_type": "code",
   "execution_count": null,
   "outputs": [],
   "source": [],
   "metadata": {
    "collapsed": false,
    "pycharm": {
     "name": "#%%\n"
    }
   }
  }
 ],
 "metadata": {
  "kernelspec": {
   "display_name": "Python 3",
   "language": "python",
   "name": "python3"
  },
  "language_info": {
   "codemirror_mode": {
    "name": "ipython",
    "version": 2
   },
   "file_extension": ".py",
   "mimetype": "text/x-python",
   "name": "python",
   "nbconvert_exporter": "python",
   "pygments_lexer": "ipython2",
   "version": "2.7.6"
  }
 },
 "nbformat": 4,
 "nbformat_minor": 0
}