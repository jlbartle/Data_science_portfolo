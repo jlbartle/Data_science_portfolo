{
 "cells": [
  {
   "cell_type": "markdown",
   "id": "fb27d3b0",
   "metadata": {},
   "source": [
    "### FDA Adverse Drug event analysis\n",
    "- Data collected via https://open.fda.gov/data/faers/\n",
    "- Data cleaned and aggregated via SingleDataFrame.ipynb\n",
    "- Initial requests explored via Example of API Requests.ipynb"
   ]
  },
  {
   "cell_type": "code",
   "execution_count": 1,
   "id": "1528e28d",
   "metadata": {},
   "outputs": [],
   "source": [
    "# FDA adverse drug events analysis\n",
    "\n",
    "# imports\n",
    "import pandas as pd\n",
    "import numpy as np\n",
    "import json\n",
    "from operator import itemgetter\n",
    "import datetime as datetime\n",
    "import requests\n",
    "import dask.dataframe as dd\n",
    "import time\n",
    "\n",
    "#sklearn\n",
    "from sklearn.model_selection import GridSearchCV, train_test_split\n",
    "from sklearn.naive_bayes import MultinomialNB\n",
    "from sklearn.metrics import classification_report, confusion_matrix\n",
    "from sklearn.preprocessing import StandardScaler\n",
    "from sklearn.pipeline import Pipeline\n",
    "\n",
    "# visualization imports\n",
    "import matplotlib.pyplot as plt\n",
    "import plotly.express as px\n",
    "import seaborn as sns\n"
   ]
  },
  {
   "cell_type": "markdown",
   "id": "ab5b70db",
   "metadata": {},
   "source": [
    "## Initial Data Load"
   ]
  },
  {
   "cell_type": "code",
   "execution_count": 2,
   "id": "e7516b77",
   "metadata": {
    "pycharm": {
     "name": "#%%\n"
    }
   },
   "outputs": [
    {
     "name": "stdout",
     "output_type": "stream",
     "text": [
      "load train:  0:01:22.286932\n"
     ]
    }
   ],
   "source": [
    "# read in consolidated df created in\n",
    "t=time.time()\n",
    "\n",
    "pathToData = 'X://consolidatedData.csv'\n",
    "\n",
    "df_fda = dd.read_csv(pathToData,dtype={'authoritynumb': 'object',\n",
    "       'patient.patientagegroup': 'float64',\n",
    "       'patient.patientonsetage': 'float64',\n",
    "       'patient.patientonsetageunit': 'float64',\n",
    "       'patient.patientsex': 'float64',\n",
    "       'seriousnesshospitalization': 'float64',\n",
    "       'safetyreportid': 'object',\n",
    "       'medicinalproduct':'object',\n",
    "        'reactionmedrapt':'object'})\n",
    "\n",
    "df_fda=df_fda.compute()\n",
    "\n",
    "print(\"load train: \" , str(datetime.timedelta(seconds=time.time()-t)))"
   ]
  },
  {
   "cell_type": "markdown",
   "id": "958a080f",
   "metadata": {},
   "source": [
    "Above is the time required to load data into python env via the CSV file we created earlier.\n",
    "\n",
    "Below is code we used through analysis to create samples to more easily view the data during cleanup"
   ]
  },
  {
   "cell_type": "code",
   "execution_count": 3,
   "id": "160ee639",
   "metadata": {
    "pycharm": {
     "name": "#%%\n"
    }
   },
   "outputs": [
    {
     "data": {
      "text/plain": "<bound method DataFrame.info of             V1  index safetyreportid  serious  receiptdate  \\\n238819   44536   3821       14646612        1     20180316   \n199414   16160   4997       12977527        1     20161128   \n67132    35442   3292       18255155        1     20200924   \n86109    60197   8773       13957586        2     20170912   \n24526   146351   8619       15422477        1     20180925   \n...        ...    ...            ...      ...          ...   \n128014  103136   5250       17466876        1     20200227   \n80481    51114   3082       16845552        1     20190924   \n244389   49553  11852       14947015        1     20180529   \n77145     8613   2999       15279813        1     20180730   \n134547  216629   9735       17709362        1     20200426   \n\n                                              companynumb occurcountry  \\\n238819  DE-WEST-WARD PHARMACEUTICALS CORP.-DE-H14001-1...           DE   \n199414                          NL-CIPLA LTD.-2016NL22203           NL   \n67132                           US-JNJFOC-A-NJ2019-186963           US   \n86109                          US-009507513-1709USA002610           US   \n24526   FR-SUN PHARMACEUTICAL INDUSTRIES LTD-2018RR-18...           FR   \n...                                                   ...          ...   \n128014                            CA-TEVA-2020-CA-1189709           CA   \n80481   US-HIKMA PHARMACEUTICALS USA INC.-US-H14001-19...           US   \n244389                              DE-JNJFOC-20180534287           DE   \n77145                                                 NaN           US   \n134547                   CA-AUROBINDO-AUR-APL-2020-020187           CA   \n\n        seriousnesshospitalization primarysourcecountry  \\\n238819                         1.0                   DE   \n199414                         NaN                   NL   \n67132                          1.0                   US   \n86109                          NaN                   US   \n24526                          1.0                   FR   \n...                            ...                  ...   \n128014                         NaN                   CA   \n80481                          1.0                   US   \n244389                         1.0                   DE   \n77145                          1.0                   US   \n134547                         NaN                   CA   \n\n        primarysource.qualification  ...  reportduplicate.duplicatesource  \\\n238819                            1  ...                         WESTWARD   \n199414                            3  ...                            CIPLA   \n67132                             3  ...              JOHNSON AND JOHNSON   \n86109                             2  ...                            MERCK   \n24526                             3  ...                          RANBAXY   \n...                             ...  ...                              ...   \n128014                            3  ...                             TEVA   \n80481                             1  ...                            HIKMA   \n244389                            1  ...                          JANSSEN   \n77145                             2  ...                          FDA-CTU   \n134547                            3  ...                        AUROBINDO   \n\n        seriousnessother  seriousnesslifethreatening  authoritynumb  \\\n238819               1.0                         1.0            NaN   \n199414               1.0                         NaN            NaN   \n67132                1.0                         NaN            NaN   \n86109                NaN                         NaN            NaN   \n24526                NaN                         NaN            NaN   \n...                  ...                         ...            ...   \n128014               1.0                         NaN            NaN   \n80481                NaN                         NaN            NaN   \n244389               NaN                         NaN            NaN   \n77145                NaN                         NaN            NaN   \n134547               1.0                         NaN            NaN   \n\n        seriousnessdeath seriousnesscongenitalanomali  seriousnessdisabling  \\\n238819               NaN                          NaN                   NaN   \n199414               NaN                          NaN                   NaN   \n67132                NaN                          NaN                   NaN   \n86109                NaN                          NaN                   NaN   \n24526                NaN                          NaN                   NaN   \n...                  ...                          ...                   ...   \n128014               NaN                          NaN                   NaN   \n80481                NaN                          NaN                   NaN   \n244389               NaN                          NaN                   NaN   \n77145                NaN                          NaN                   NaN   \n134547               NaN                          NaN                   NaN   \n\n                                          reactionmedrapt  \\\n238819                                           Headache   \n199414                    Foetal exposure during delivery   \n67132                                   Confusional state   \n86109                                        Irritability   \n24526                                         Lymphopenia   \n...                                                   ...   \n128014  Anti-cyclic citrullinated peptide antibody pos...   \n80481                               Mental status changes   \n244389                                            Fatigue   \n77145                                   Ammonia increased   \n134547                  Lower respiratory tract infection   \n\n                   medicinalproduct  receiver  \n238819                    TORASEMID       NaN  \n199414                    TENOFOVIR       NaN  \n67132                       VELETRI       NaN  \n86109      BUSPIRONE HYDROCHLORIDE.       NaN  \n24526                  PANTOPRAZOLE       NaN  \n...                             ...       ...  \n128014                      ORENCIA       NaN  \n80481                 PEGFILGRASTIM       NaN  \n244389                    TORASEMID       NaN  \n77145   MYCOPHENOLATE MOF TAB 250MG       NaN  \n134547           SALBUTAMOL SULFATE       NaN  \n\n[1000 rows x 25 columns]>"
     },
     "execution_count": 3,
     "metadata": {},
     "output_type": "execute_result"
    }
   ],
   "source": [
    "# check a sample of the data works\n",
    "sample = df_fda.sample(1000)\n",
    "sample.info\n",
    "# identify columns to drop"
   ]
  },
  {
   "cell_type": "markdown",
   "id": "e54a626e",
   "metadata": {},
   "source": [
    "## Begin Filtering and cleanup here"
   ]
  },
  {
   "cell_type": "code",
   "execution_count": 4,
   "id": "9fd15b59",
   "metadata": {
    "pycharm": {
     "name": "#%%\n"
    }
   },
   "outputs": [
    {
     "name": "stdout",
     "output_type": "stream",
     "text": [
      "Wall time: 53 s\n"
     ]
    }
   ],
   "source": [
    "%%time\n",
    "\n",
    "df_fda = df_fda.drop(columns = ['authoritynumb', 'companynumb','reportduplicate.duplicatesource',\n",
    "                                'patient.patientonsetageunit','patient.patientagegroup','primarysourcecountry','V1','index', 'receiver'])\n",
    "\n",
    "# filter out all 2 and 3's from primarysource.qualification\n",
    "# df_fda = df_fda[df_fda.primarysource.qualification != 1]\n",
    "\n",
    "# drop health professionals\n",
    "#df_fda = df_fda.drop(columns = 'primarysource.qualification')\n",
    "\n",
    "# replace nan ages with -1\n",
    "df_fda['patient.patientonsetage'] = df_fda['patient.patientonsetage'].fillna(-1)\n",
    "# filter ages drop every age over 115 (probably reporting anomalies)\n",
    "df_fda = df_fda.loc[df_fda['patient.patientonsetage'] < 115]\n",
    "# convert ages to ints\n",
    "df_fda['patient.patientonsetage'] = df_fda['patient.patientonsetage'].astype(int)\n",
    "\n",
    "# replace nan weights with -1\n",
    "df_fda['patient.patientweight'] = df_fda['patient.patientweight'].fillna(-1)\n",
    "# filter weights drop every weight over 635kg (the heaviest man ever) (probably reporting anomalies)\n",
    "df_fda = df_fda.loc[df_fda['patient.patientweight'] < 635]\n",
    "# converting to int where floats aren't needed\n",
    "df_fda['patient.patientweight'] = df_fda['patient.patientweight'].astype(int)\n",
    "\n",
    "# replace nan sex with -1\n",
    "df_fda['patient.patientsex'] = df_fda['patient.patientsex'].fillna(-1)\n",
    "# converting to int where floats aren't needed\n",
    "df_fda['patient.patientsex'] = df_fda['patient.patientsex'].astype(int)\n",
    "\n",
    "# convert potential bool values\n",
    "# fill nan with 0\n",
    "# big caveat with these conversions FALSE could indicate UNREPORTED data not just FALSE\n",
    "df_fda[['seriousnesshospitalization', 'seriousnessother','seriousnesslifethreatening', 'seriousnessdeath',\n",
    "       'seriousnesscongenitalanomali', 'seriousnessdisabling']] = \\\n",
    "       df_fda[['seriousnesshospitalization', 'seriousnessother','seriousnesslifethreatening', 'seriousnessdeath',\n",
    "              'seriousnesscongenitalanomali', 'seriousnessdisabling']].fillna(0)\n",
    "\n",
    "# convert 1/0 columns to bol\n",
    "df_fda[['seriousnesshospitalization', 'seriousnessother','seriousnesslifethreatening', 'seriousnessdeath',\n",
    "       'seriousnesscongenitalanomali', 'seriousnessdisabling']] = \\\n",
    "       df_fda[['seriousnesshospitalization', 'seriousnessother','seriousnesslifethreatening', 'seriousnessdeath',\n",
    "              'seriousnesscongenitalanomali', 'seriousnessdisabling']].astype('bool')\n",
    "\n",
    "# convert receipt date to datetime\n",
    "df_fda['receiptdate'] = pd.to_datetime(df_fda['receiptdate'],format='%Y%m%d')\n",
    "df_fda['receiptdate'] = df_fda['receiptdate'].dt.date\n"
   ]
  },
  {
   "cell_type": "markdown",
   "id": "26ad4f90",
   "metadata": {},
   "source": [
    "Data set is now 'clean' lets generate some summary statistics"
   ]
  },
  {
   "cell_type": "code",
   "execution_count": 5,
   "id": "228e1d2c",
   "metadata": {
    "pycharm": {
     "name": "#%%\n"
    }
   },
   "outputs": [
    {
     "name": "stdout",
     "output_type": "stream",
     "text": [
      "<class 'pandas.core.frame.DataFrame'>\n",
      "Int64Index: 56104095 entries, 0 to 207805\n",
      "Data columns (total 16 columns):\n",
      " #   Column                        Dtype \n",
      "---  ------                        ----- \n",
      " 0   safetyreportid                object\n",
      " 1   serious                       int64 \n",
      " 2   receiptdate                   object\n",
      " 3   occurcountry                  object\n",
      " 4   seriousnesshospitalization    bool  \n",
      " 5   primarysource.qualification   int64 \n",
      " 6   patient.patientonsetage       int32 \n",
      " 7   patient.patientweight         int32 \n",
      " 8   patient.patientsex            int32 \n",
      " 9   seriousnessother              bool  \n",
      " 10  seriousnesslifethreatening    bool  \n",
      " 11  seriousnessdeath              bool  \n",
      " 12  seriousnesscongenitalanomali  bool  \n",
      " 13  seriousnessdisabling          bool  \n",
      " 14  reactionmedrapt               object\n",
      " 15  medicinalproduct              object\n",
      "dtypes: bool(6), int32(3), int64(2), object(5)\n",
      "memory usage: 4.3+ GB\n"
     ]
    }
   ],
   "source": [
    "df_fda.info()"
   ]
  },
  {
   "cell_type": "code",
   "execution_count": 6,
   "id": "07a21beb",
   "metadata": {
    "pycharm": {
     "name": "#%%\n"
    }
   },
   "outputs": [
    {
     "data": {
      "text/plain": "count    4.276881e+07\nmean     5.662904e+01\nstd      1.940464e+01\nmin      1.000000e+00\n25%      4.500000e+01\n50%      6.000000e+01\n75%      7.100000e+01\nmax      1.140000e+02\nName: patient.patientonsetage, dtype: float64"
     },
     "execution_count": 6,
     "metadata": {},
     "output_type": "execute_result"
    }
   ],
   "source": [
    "# summarize age of patients\n",
    "df_fda.loc[df_fda['patient.patientonsetage'] > 0]['patient.patientonsetage'].describe()\n"
   ]
  },
  {
   "cell_type": "code",
   "execution_count": 7,
   "id": "94502552",
   "metadata": {
    "pycharm": {
     "name": "#%%\n"
    }
   },
   "outputs": [
    {
     "data": {
      "text/plain": "<AxesSubplot:title={'center':'Age Range Adverse Effects'}, ylabel='count'>"
     },
     "execution_count": 7,
     "metadata": {},
     "output_type": "execute_result"
    },
    {
     "data": {
      "text/plain": "<Figure size 432x288 with 1 Axes>",
      "image/png": "[encoded data removed]"
     },
     "metadata": {
      "needs_background": "light"
     },
     "output_type": "display_data"
    }
   ],
   "source": [
    "# create a summary column for age range\n",
    "bins = [0, 10, 20, 30, 40, 50, 60, 70, 80 ,90, 100, 115]\n",
    "labels = ['0-9', '10-19', '20-29', '30-39', '40-49', '50-59', '60-69', '70-79', '80-89', '90-99', '100+']\n",
    "df_fda['agerange'] = pd.cut(df_fda['patient.patientonsetage'], bins, labels = labels,include_lowest = True)\n",
    "\n",
    "# plot results\n",
    "df_fda['agerange'].value_counts(sort=False).plot(kind = 'barh', title = 'Age Range Adverse Effects', ylabel = 'count')\n"
   ]
  },
  {
   "cell_type": "code",
   "execution_count": 8,
   "id": "b92a0dd3",
   "metadata": {
    "pycharm": {
     "name": "#%%\n"
    }
   },
   "outputs": [
    {
     "data": {
      "text/plain": "count    5.064822e+07\nmean     1.613110e+00\nstd      4.870381e-01\nmin      1.000000e+00\n25%      1.000000e+00\n50%      2.000000e+00\n75%      2.000000e+00\nmax      2.000000e+00\nName: patient.patientsex, dtype: float64"
     },
     "execution_count": 8,
     "metadata": {},
     "output_type": "execute_result"
    }
   ],
   "source": [
    "# summarize sex of patients\n",
    "df_fda.loc[df_fda['patient.patientsex'] > 0]['patient.patientsex'].describe()"
   ]
  },
  {
   "cell_type": "code",
   "execution_count": 9,
   "metadata": {
    "collapsed": false,
    "pycharm": {
     "name": "#%%\n"
    }
   },
   "outputs": [],
   "source": [
    "# summarize sex of patients\n",
    "#df_fda.loc[df_fda['patient.patientsex'] > 0].boxplot(column='patient.patientsex')"
   ]
  },
  {
   "cell_type": "code",
   "execution_count": 10,
   "metadata": {
    "collapsed": false,
    "pycharm": {
     "name": "#%%\n"
    }
   },
   "outputs": [
    {
     "data": {
      "text/plain": "<matplotlib.legend.Legend at 0x21a2ca4ec10>"
     },
     "execution_count": 10,
     "metadata": {},
     "output_type": "execute_result"
    },
    {
     "data": {
      "text/plain": "<Figure size 432x288 with 1 Axes>",
      "image/png": "[encoded data removed]"
     },
     "metadata": {
      "needs_background": "light"
     },
     "output_type": "display_data"
    }
   ],
   "source": [
    "# plot sex vs age\n",
    "fig, ax = plt.subplots()\n",
    "df_fda.loc[df_fda['patient.patientsex'] > 0].groupby(['agerange','patient.patientsex']).size().unstack(level=1).plot(kind='bar', title = 'Adverse Events by Age Range & Sex', ylabel = 'count', ax = ax)\n",
    "ax.legend(['Male', 'Female'])\n"
   ]
  },
  {
   "cell_type": "code",
   "execution_count": 11,
   "id": "af6ea1d0",
   "metadata": {
    "pycharm": {
     "name": "#%%\n"
    }
   },
   "outputs": [
    {
     "data": {
      "text/plain": "count    2.087740e+07\nmean     7.431710e+01\nstd      2.510824e+01\nmin      1.000000e+00\n25%      5.900000e+01\n50%      7.200000e+01\n75%      8.800000e+01\nmax      6.180000e+02\nName: patient.patientweight, dtype: float64"
     },
     "execution_count": 11,
     "metadata": {},
     "output_type": "execute_result"
    }
   ],
   "source": [
    "# summarize weight of patients\n",
    "df_fda.loc[df_fda['patient.patientweight'] > 0]['patient.patientweight'].describe()"
   ]
  },
  {
   "cell_type": "code",
   "execution_count": 12,
   "id": "94d29122",
   "metadata": {
    "pycharm": {
     "name": "#%%\n"
    }
   },
   "outputs": [
    {
     "data": {
      "text/plain": "<AxesSubplot:>"
     },
     "execution_count": 12,
     "metadata": {},
     "output_type": "execute_result"
    },
    {
     "data": {
      "text/plain": "<Figure size 432x288 with 1 Axes>",
      "image/png": "[encoded data removed]"
     },
     "metadata": {
      "needs_background": "light"
     },
     "output_type": "display_data"
    }
   ],
   "source": [
    "# bar plot weight distribution no real tell here, lots of outliers\n",
    "df_fda.loc[df_fda['patient.patientweight'] > 0].boxplot(column='patient.patientweight')"
   ]
  },
  {
   "cell_type": "code",
   "execution_count": 13,
   "id": "c10bb85e",
   "metadata": {
    "pycharm": {
     "name": "#%%\n"
    }
   },
   "outputs": [
    {
     "data": {
      "text/plain": "count    5.610410e+07\nmean     2.041563e+00\nstd      9.515980e-01\nmin      1.000000e+00\n25%      1.000000e+00\n50%      2.000000e+00\n75%      3.000000e+00\nmax      3.000000e+00\nName: primarysource.qualification, dtype: float64"
     },
     "execution_count": 13,
     "metadata": {},
     "output_type": "execute_result"
    }
   ],
   "source": [
    "# summary of primary source\n",
    "df_fda['primarysource.qualification'].describe()\n"
   ]
  },
  {
   "cell_type": "markdown",
   "metadata": {
    "collapsed": false
   },
   "source": [
    "An encoded value for the category of individual submitting the report.\n",
    "\n",
    "1 = Physician\n",
    "2 = Pharmacist\n",
    "3 = Other Health Professional\n",
    "We cut out the following codes:\n",
    "4 = Lawyer\n",
    "5 = Consumer or non-health professional"
   ]
  },
  {
   "cell_type": "code",
   "execution_count": 14,
   "metadata": {
    "collapsed": false,
    "pycharm": {
     "name": "#%%\n"
    }
   },
   "outputs": [
    {
     "data": {
      "text/plain": "<matplotlib.legend.Legend at 0x2191e1b4ca0>"
     },
     "execution_count": 14,
     "metadata": {},
     "output_type": "execute_result"
    },
    {
     "data": {
      "text/plain": "<Figure size 360x360 with 1 Axes>",
      "image/png": "[encoded data removed]"
     },
     "metadata": {},
     "output_type": "display_data"
    }
   ],
   "source": [
    "# plot primary source qualification distribution\n",
    "fig, ax = plt.subplots()\n",
    "df_fda['primarysource.qualification'].value_counts(sort=False).plot.pie(figsize=(5, 5), title = 'Reporter Distribution', ax = ax, autopct='%1.1f%%', explode=(0, 0, 0.1),shadow=True, startangle=0)\n",
    "ax.legend(['Physician', 'Pharmacist', 'Other Health Professional'])"
   ]
  },
  {
   "cell_type": "code",
   "execution_count": 15,
   "metadata": {
    "collapsed": false,
    "pycharm": {
     "name": "#%%\n"
    }
   },
   "outputs": [
    {
     "data": {
      "text/plain": "<AxesSubplot:title={'center':'Adverse Events Over Time (smoothed)'}, xlabel='receiptdate', ylabel='count'>"
     },
     "execution_count": 15,
     "metadata": {},
     "output_type": "execute_result"
    },
    {
     "data": {
      "text/plain": "<Figure size 432x288 with 1 Axes>",
      "image/png": "[encoded data removed]"
     },
     "metadata": {
      "needs_background": "light"
     },
     "output_type": "display_data"
    }
   ],
   "source": [
    "# time series plot to visualize seasonality\n",
    "df_fda_time = df_fda\n",
    "df_fda_time.index = pd.to_datetime(df_fda_time['receiptdate'])\n",
    "#df_fda['receiptdate'].value_counts(sort=False).plot(kind = 'line', title = 'Adverse Events over time', ylabel = 'count')\n",
    "df_fda_time['receiptdate'].resample('1M').count().plot(kind = 'line', title = 'Adverse Events Over Time (smoothed)', ylabel = 'count')\n"
   ]
  },
  {
   "cell_type": "code",
   "execution_count": 16,
   "metadata": {
    "collapsed": false,
    "pycharm": {
     "name": "#%%\n"
    }
   },
   "outputs": [
    {
     "data": {
      "text/plain": "<AxesSubplot:title={'center':'Adverse Events over time'}, xlabel='receiptdate', ylabel='count'>"
     },
     "execution_count": 16,
     "metadata": {},
     "output_type": "execute_result"
    },
    {
     "data": {
      "text/plain": "<Figure size 432x288 with 1 Axes>",
      "image/png": "[encoded data removed]"
     },
     "metadata": {
      "needs_background": "light"
     },
     "output_type": "display_data"
    }
   ],
   "source": [
    "# subplots of total adverse events\n",
    "df_fda_time[['receiptdate','serious','seriousnessdeath','seriousnessdisabling','seriousnesshospitalization','seriousnesscongenitalanomali','seriousnesslifethreatening','seriousnessother']].resample('1M').sum().plot(kind = 'line', title = 'Adverse Events over time', ylabel = 'count')\n"
   ]
  },
  {
   "cell_type": "code",
   "execution_count": 17,
   "metadata": {
    "collapsed": false,
    "pycharm": {
     "name": "#%%\n"
    }
   },
   "outputs": [],
   "source": [
    "# drop any summary columns not usefule in modeling\n",
    "# drop the summary column\n",
    "df_fda = df_fda.drop(columns = 'agerange')\n",
    "df_fda = df_fda.drop(columns = 'receiptdate')\n",
    "df_fda_time = pd.DataFrame(None)\n",
    "# df_fda = df_fda.reset_index()"
   ]
  },
  {
   "cell_type": "markdown",
   "metadata": {
    "collapsed": false,
    "pycharm": {
     "name": "#%% md\n"
    }
   },
   "source": [
    "### Modeling"
   ]
  },
  {
   "cell_type": "code",
   "execution_count": 18,
   "id": "bf2ad70b",
   "metadata": {},
   "outputs": [],
   "source": [
    "# drop all negatives as these columns won't function in model appropriately\n",
    "df_fda = df_fda.loc[df_fda['patient.patientweight'] > 0]\n",
    "df_fda = df_fda.loc[df_fda['patient.patientonsetage'] > 0]\n",
    "df_fda = df_fda.loc[df_fda['patient.patientsex'] > 0]"
   ]
  },
  {
   "cell_type": "code",
   "execution_count": 19,
   "id": "db3cfb49",
   "metadata": {
    "pycharm": {
     "name": "#%%\n"
    }
   },
   "outputs": [
    {
     "name": "stdout",
     "output_type": "stream",
     "text": [
      "Wall time: 3.01 s\n"
     ]
    },
    {
     "data": {
      "text/plain": "                              seriousnesshospitalization  seriousnessother  \\\nseriousnesshospitalization                      1.000000         -0.121247   \nseriousnessother                               -0.121247          1.000000   \nseriousnesslifethreatening                      0.115600          0.035478   \nseriousnessdeath                                0.091915         -0.014128   \nseriousnesscongenitalanomali                   -0.000870          0.011361   \nseriousnessdisabling                           -0.013904          0.040663   \nserious                                        -0.365558         -0.386691   \n\n                              seriousnesslifethreatening  seriousnessdeath  \\\nseriousnesshospitalization                      0.115600          0.091915   \nseriousnessother                                0.035478         -0.014128   \nseriousnesslifethreatening                      1.000000          0.167943   \nseriousnessdeath                                0.167943          1.000000   \nseriousnesscongenitalanomali                    0.017849          0.021687   \nseriousnessdisabling                            0.108015         -0.013392   \nserious                                        -0.107504         -0.121042   \n\n                              seriousnesscongenitalanomali  \\\nseriousnesshospitalization                       -0.000870   \nseriousnessother                                  0.011361   \nseriousnesslifethreatening                        0.017849   \nseriousnessdeath                                  0.021687   \nseriousnesscongenitalanomali                      1.000000   \nseriousnessdisabling                              0.026698   \nserious                                          -0.018071   \n\n                              seriousnessdisabling   serious  \nseriousnesshospitalization               -0.013904 -0.365558  \nseriousnessother                          0.040663 -0.386691  \nseriousnesslifethreatening                0.108015 -0.107504  \nseriousnessdeath                         -0.013392 -0.121042  \nseriousnesscongenitalanomali              0.026698 -0.018071  \nseriousnessdisabling                      1.000000 -0.072626  \nserious                                  -0.072626  1.000000  ",
      "text/html": "<div>\n<style scoped>\n    .dataframe tbody tr th:only-of-type {\n        vertical-align: middle;\n    }\n\n    .dataframe tbody tr th {\n        vertical-align: top;\n    }\n\n    .dataframe thead th {\n        text-align: right;\n    }\n</style>\n<table border=\"1\" class=\"dataframe\">\n  <thead>\n    <tr style=\"text-align: right;\">\n      <th></th>\n      <th>seriousnesshospitalization</th>\n      <th>seriousnessother</th>\n      <th>seriousnesslifethreatening</th>\n      <th>seriousnessdeath</th>\n      <th>seriousnesscongenitalanomali</th>\n      <th>seriousnessdisabling</th>\n      <th>serious</th>\n    </tr>\n  </thead>\n  <tbody>\n    <tr>\n      <th>seriousnesshospitalization</th>\n      <td>1.000000</td>\n      <td>-0.121247</td>\n      <td>0.115600</td>\n      <td>0.091915</td>\n      <td>-0.000870</td>\n      <td>-0.013904</td>\n      <td>-0.365558</td>\n    </tr>\n    <tr>\n      <th>seriousnessother</th>\n      <td>-0.121247</td>\n      <td>1.000000</td>\n      <td>0.035478</td>\n      <td>-0.014128</td>\n      <td>0.011361</td>\n      <td>0.040663</td>\n      <td>-0.386691</td>\n    </tr>\n    <tr>\n      <th>seriousnesslifethreatening</th>\n      <td>0.115600</td>\n      <td>0.035478</td>\n      <td>1.000000</td>\n      <td>0.167943</td>\n      <td>0.017849</td>\n      <td>0.108015</td>\n      <td>-0.107504</td>\n    </tr>\n    <tr>\n      <th>seriousnessdeath</th>\n      <td>0.091915</td>\n      <td>-0.014128</td>\n      <td>0.167943</td>\n      <td>1.000000</td>\n      <td>0.021687</td>\n      <td>-0.013392</td>\n      <td>-0.121042</td>\n    </tr>\n    <tr>\n      <th>seriousnesscongenitalanomali</th>\n      <td>-0.000870</td>\n      <td>0.011361</td>\n      <td>0.017849</td>\n      <td>0.021687</td>\n      <td>1.000000</td>\n      <td>0.026698</td>\n      <td>-0.018071</td>\n    </tr>\n    <tr>\n      <th>seriousnessdisabling</th>\n      <td>-0.013904</td>\n      <td>0.040663</td>\n      <td>0.108015</td>\n      <td>-0.013392</td>\n      <td>0.026698</td>\n      <td>1.000000</td>\n      <td>-0.072626</td>\n    </tr>\n    <tr>\n      <th>serious</th>\n      <td>-0.365558</td>\n      <td>-0.386691</td>\n      <td>-0.107504</td>\n      <td>-0.121042</td>\n      <td>-0.018071</td>\n      <td>-0.072626</td>\n      <td>1.000000</td>\n    </tr>\n  </tbody>\n</table>\n</div>"
     },
     "execution_count": 19,
     "metadata": {},
     "output_type": "execute_result"
    }
   ],
   "source": [
    "%%time\n",
    "df_fda[[ 'seriousnesshospitalization','seriousnessother', 'seriousnesslifethreatening',\n",
    "       'seriousnessdeath', 'seriousnesscongenitalanomali',\n",
    "       'seriousnessdisabling','serious']].corr()"
   ]
  },
  {
   "cell_type": "code",
   "execution_count": 20,
   "id": "2a4ab1fd",
   "metadata": {},
   "outputs": [
    {
     "data": {
      "text/plain": "1    16765423\n2     1452069\nName: serious, dtype: int64"
     },
     "execution_count": 20,
     "metadata": {},
     "output_type": "execute_result"
    }
   ],
   "source": [
    "review = df_fda[[ 'seriousnesshospitalization','seriousnessother', 'seriousnesslifethreatening',\n",
    "       'seriousnessdeath', 'seriousnesscongenitalanomali',\n",
    "       'seriousnessdisabling','serious']]\n",
    "review['serious'].value_counts()"
   ]
  },
  {
   "cell_type": "code",
   "execution_count": 21,
   "id": "91578a0f",
   "metadata": {},
   "outputs": [
    {
     "data": {
      "text/plain": "             seriousnesshospitalization  seriousnessother  \\\nreceiptdate                                                 \n2016-03-21                        False             False   \n2016-03-21                        False             False   \n2016-03-21                        False             False   \n2016-03-04                        False             False   \n2016-03-04                        False             False   \n...                                 ...               ...   \n2020-10-01                        False             False   \n2020-10-01                        False             False   \n2020-11-11                        False             False   \n2020-11-11                        False             False   \n2020-11-09                        False             False   \n\n             seriousnesslifethreatening  seriousnessdeath  \\\nreceiptdate                                                 \n2016-03-21                        False             False   \n2016-03-21                        False             False   \n2016-03-21                        False             False   \n2016-03-04                        False             False   \n2016-03-04                        False             False   \n...                                 ...               ...   \n2020-10-01                        False             False   \n2020-10-01                        False             False   \n2020-11-11                        False             False   \n2020-11-11                        False             False   \n2020-11-09                        False             False   \n\n             seriousnesscongenitalanomali  seriousnessdisabling  serious  \nreceiptdate                                                               \n2016-03-21                          False                 False        2  \n2016-03-21                          False                 False        2  \n2016-03-21                          False                 False        2  \n2016-03-04                          False                 False        2  \n2016-03-04                          False                 False        2  \n...                                   ...                   ...      ...  \n2020-10-01                          False                 False        2  \n2020-10-01                          False                 False        2  \n2020-11-11                          False                 False        2  \n2020-11-11                          False                 False        2  \n2020-11-09                          False                 False        2  \n\n[1452069 rows x 7 columns]",
      "text/html": "<div>\n<style scoped>\n    .dataframe tbody tr th:only-of-type {\n        vertical-align: middle;\n    }\n\n    .dataframe tbody tr th {\n        vertical-align: top;\n    }\n\n    .dataframe thead th {\n        text-align: right;\n    }\n</style>\n<table border=\"1\" class=\"dataframe\">\n  <thead>\n    <tr style=\"text-align: right;\">\n      <th></th>\n      <th>seriousnesshospitalization</th>\n      <th>seriousnessother</th>\n      <th>seriousnesslifethreatening</th>\n      <th>seriousnessdeath</th>\n      <th>seriousnesscongenitalanomali</th>\n      <th>seriousnessdisabling</th>\n      <th>serious</th>\n    </tr>\n    <tr>\n      <th>receiptdate</th>\n      <th></th>\n      <th></th>\n      <th></th>\n      <th></th>\n      <th></th>\n      <th></th>\n      <th></th>\n    </tr>\n  </thead>\n  <tbody>\n    <tr>\n      <th>2016-03-21</th>\n      <td>False</td>\n      <td>False</td>\n      <td>False</td>\n      <td>False</td>\n      <td>False</td>\n      <td>False</td>\n      <td>2</td>\n    </tr>\n    <tr>\n      <th>2016-03-21</th>\n      <td>False</td>\n      <td>False</td>\n      <td>False</td>\n      <td>False</td>\n      <td>False</td>\n      <td>False</td>\n      <td>2</td>\n    </tr>\n    <tr>\n      <th>2016-03-21</th>\n      <td>False</td>\n      <td>False</td>\n      <td>False</td>\n      <td>False</td>\n      <td>False</td>\n      <td>False</td>\n      <td>2</td>\n    </tr>\n    <tr>\n      <th>2016-03-04</th>\n      <td>False</td>\n      <td>False</td>\n      <td>False</td>\n      <td>False</td>\n      <td>False</td>\n      <td>False</td>\n      <td>2</td>\n    </tr>\n    <tr>\n      <th>2016-03-04</th>\n      <td>False</td>\n      <td>False</td>\n      <td>False</td>\n      <td>False</td>\n      <td>False</td>\n      <td>False</td>\n      <td>2</td>\n    </tr>\n    <tr>\n      <th>...</th>\n      <td>...</td>\n      <td>...</td>\n      <td>...</td>\n      <td>...</td>\n      <td>...</td>\n      <td>...</td>\n      <td>...</td>\n    </tr>\n    <tr>\n      <th>2020-10-01</th>\n      <td>False</td>\n      <td>False</td>\n      <td>False</td>\n      <td>False</td>\n      <td>False</td>\n      <td>False</td>\n      <td>2</td>\n    </tr>\n    <tr>\n      <th>2020-10-01</th>\n      <td>False</td>\n      <td>False</td>\n      <td>False</td>\n      <td>False</td>\n      <td>False</td>\n      <td>False</td>\n      <td>2</td>\n    </tr>\n    <tr>\n      <th>2020-11-11</th>\n      <td>False</td>\n      <td>False</td>\n      <td>False</td>\n      <td>False</td>\n      <td>False</td>\n      <td>False</td>\n      <td>2</td>\n    </tr>\n    <tr>\n      <th>2020-11-11</th>\n      <td>False</td>\n      <td>False</td>\n      <td>False</td>\n      <td>False</td>\n      <td>False</td>\n      <td>False</td>\n      <td>2</td>\n    </tr>\n    <tr>\n      <th>2020-11-09</th>\n      <td>False</td>\n      <td>False</td>\n      <td>False</td>\n      <td>False</td>\n      <td>False</td>\n      <td>False</td>\n      <td>2</td>\n    </tr>\n  </tbody>\n</table>\n<p>1452069 rows × 7 columns</p>\n</div>"
     },
     "execution_count": 21,
     "metadata": {},
     "output_type": "execute_result"
    }
   ],
   "source": [
    "review[review['serious']==2]"
   ]
  },
  {
   "cell_type": "markdown",
   "id": "3fecef6c",
   "metadata": {},
   "source": [
    "# Creating a risk level category\n",
    "\n",
    "The Data show many different types of possible seriousness levels. To help medical professionals make the best decision it it possible to predict the risk level outcome so they can discuss care options with their patients\n",
    "\n",
    "For High Risk Death and Disablement were decided as these appear the most extreme outcomes for people, they can either no longer live their lives or are in a state where they are no longer alive\n",
    "\n",
    "For Medium High Risk Hospitalization and lifethreatening reactions were tagged. While both of these events result in medical staff the patient is getting closer to the High Risk category in which their life will never be the same.\n",
    "\n",
    "Medium risk was congential anamoli, more commonly known as birth defects. The data below shows these are super rarely reported and likely will preform poorly in the model without further data.\n",
    "\n",
    "Medium low risk was classified with Seriousness other. As a number of the reactions are things like no reaction or off label use the impact is difficult to quantify, on one hand no effect maybe good, but if a medication is supposed to reduct blood presure it could be on the end of the spectrum. The expectation if the result is the more serious category the doctor would code the report in a higher category such as life threatening.\n",
    "\n",
    "Low Risk = when the other categories are all false the seriousness category is 2 this represent a situation where the patient is in no known quantifyable danger with the current information provided."
   ]
  },
  {
   "cell_type": "code",
   "execution_count": 22,
   "id": "90ccd9a6",
   "metadata": {},
   "outputs": [
    {
     "data": {
      "text/plain": "Medium High        9010650\nMedium Low Risk    4180876\nHigh               3550209\nLow Risk           1452069\nMedium Risk          23688\nName: RiskLevel, dtype: int64"
     },
     "execution_count": 22,
     "metadata": {},
     "output_type": "execute_result"
    }
   ],
   "source": [
    "df_fda.loc[df_fda['serious']==2,\"RiskLevel\"] = \"Low Risk\"\n",
    "df_fda.loc[df_fda['seriousnessother']==True,'RiskLevel']=\"Medium Low Risk\"\n",
    "df_fda.loc[df_fda['seriousnesscongenitalanomali']==True,\"RiskLevel\"] = \"Medium Risk\"\n",
    "df_fda.loc[(df_fda['seriousnesslifethreatening']==True)|(df_fda['seriousnesshospitalization']==True), 'RiskLevel'] = \"Medium High\"\n",
    "df_fda.loc[(df_fda['seriousnessdeath']==True)|(df_fda['seriousnessdisabling']==True), \"RiskLevel\"]=\"High\"\n",
    "\n",
    "df_fda['RiskLevel'].value_counts()"
   ]
  },
  {
   "cell_type": "code",
   "execution_count": 23,
   "id": "3e0bcef9",
   "metadata": {
    "pycharm": {
     "name": "#%%\n"
    }
   },
   "outputs": [
    {
     "name": "stdout",
     "output_type": "stream",
     "text": [
      "Total Number of Reaction Categories:  13851\n",
      "average of the times reported:  1315.24741895892\n",
      "High number of times reported:  256552\n",
      "Lowest number of times reported:  1\n",
      "Wall time: 1.82 s\n"
     ]
    }
   ],
   "source": [
    "%%time\n",
    "topReactions = df_fda['reactionmedrapt'].value_counts()\n",
    "\n",
    "print(\"Total Number of Reaction Categories: \", len(topReactions))\n",
    "print(\"average of the times reported: \",np.mean(topReactions))\n",
    "print(\"High number of times reported: \", max(topReactions))\n",
    "print(\"Lowest number of times reported: \", min(topReactions))"
   ]
  },
  {
   "cell_type": "code",
   "execution_count": 24,
   "metadata": {
    "collapsed": false,
    "pycharm": {
     "name": "#%%\n"
    }
   },
   "outputs": [
    {
     "name": "stdout",
     "output_type": "stream",
     "text": [
      "Wall time: 2 ms\n"
     ]
    },
    {
     "data": {
      "text/plain": "['Diarrhoea',\n 'Nausea',\n 'Dyspnoea',\n 'Fatigue',\n 'Pyrexia',\n 'Pneumonia',\n 'Vomiting',\n 'Headache',\n 'Acute kidney injury',\n 'Off label use',\n 'Death']"
     },
     "execution_count": 24,
     "metadata": {},
     "output_type": "execute_result"
    }
   ],
   "source": [
    "%%time\n",
    "\n",
    "#list of most commonly reported reactions\n",
    "topReactions = topReactions[:10]\n",
    "topReactions = topReactions.index\n",
    "topReactions = list(topReactions)\n",
    "topReactions.append('Death')\n",
    "topReactions"
   ]
  },
  {
   "cell_type": "code",
   "execution_count": 25,
   "metadata": {
    "collapsed": false,
    "pycharm": {
     "name": "#%%\n"
    }
   },
   "outputs": [],
   "source": [
    "# %%time\n",
    "# #filter the list by topReactions\n",
    "# df_fda = df_fda[df_fda['reactionmedrapt'].isin(topReactions)]\n",
    "# df_fda.info()"
   ]
  },
  {
   "cell_type": "code",
   "execution_count": 26,
   "id": "297956ef",
   "metadata": {},
   "outputs": [
    {
     "data": {
      "text/plain": "Index(['safetyreportid', 'serious', 'occurcountry',\n       'seriousnesshospitalization', 'primarysource.qualification',\n       'patient.patientonsetage', 'patient.patientweight',\n       'patient.patientsex', 'seriousnessother', 'seriousnesslifethreatening',\n       'seriousnessdeath', 'seriousnesscongenitalanomali',\n       'seriousnessdisabling', 'reactionmedrapt', 'medicinalproduct',\n       'RiskLevel'],\n      dtype='object')"
     },
     "execution_count": 26,
     "metadata": {},
     "output_type": "execute_result"
    }
   ],
   "source": [
    "df_fda.columns"
   ]
  },
  {
   "cell_type": "code",
   "execution_count": 27,
   "metadata": {
    "collapsed": false,
    "pycharm": {
     "name": "#%%\n"
    }
   },
   "outputs": [
    {
     "name": "stdout",
     "output_type": "stream",
     "text": [
      "<class 'pandas.core.frame.DataFrame'>\n",
      "DatetimeIndex: 11038223 entries, 2016-01-27 to 2020-11-25\n",
      "Data columns (total 16 columns):\n",
      " #   Column                        Dtype \n",
      "---  ------                        ----- \n",
      " 0   safetyreportid                object\n",
      " 1   serious                       int64 \n",
      " 2   occurcountry                  object\n",
      " 3   seriousnesshospitalization    bool  \n",
      " 4   primarysource.qualification   int64 \n",
      " 5   patient.patientonsetage       int32 \n",
      " 6   patient.patientweight         int32 \n",
      " 7   patient.patientsex            int32 \n",
      " 8   seriousnessother              bool  \n",
      " 9   seriousnesslifethreatening    bool  \n",
      " 10  seriousnessdeath              bool  \n",
      " 11  seriousnesscongenitalanomali  bool  \n",
      " 12  seriousnessdisabling          bool  \n",
      " 13  reactionmedrapt               object\n",
      " 14  medicinalproduct              object\n",
      " 15  RiskLevel                     object\n",
      "dtypes: bool(6), int32(3), int64(2), object(5)\n",
      "memory usage: 863.2+ MB\n"
     ]
    }
   ],
   "source": [
    "topMeds = df_fda['medicinalproduct'].value_counts()\n",
    "topMeds = topMeds[:500]\n",
    "topMeds = topMeds.index\n",
    "df_fda = df_fda[df_fda['medicinalproduct'].isin(topMeds)]\n",
    "df_fda.info()"
   ]
  },
  {
   "cell_type": "code",
   "execution_count": 28,
   "metadata": {
    "collapsed": false,
    "pycharm": {
     "name": "#%%\n"
    }
   },
   "outputs": [],
   "source": [
    "\n",
    "\n",
    "#Create a variable to use a boolean for the medication used\n",
    "df_fda['observation'] = 1\n",
    "\n",
    "#transform to sparse matrix using a pivot table\n",
    "df_fda = df_fda.pivot_table(index=['safetyreportid', 'serious', 'receiptdate', 'occurcountry',\n",
    "       'seriousnesshospitalization', 'primarysource.qualification',\n",
    "       'patient.patientonsetage', 'patient.patientweight',\n",
    "       'patient.patientsex', 'seriousnessother', 'seriousnesslifethreatening',\n",
    "       'seriousnessdeath', 'seriousnesscongenitalanomali',\n",
    "       'seriousnessdisabling', 'reactionmedrapt', 'RiskLevel'], columns='medicinalproduct', values='observation', fill_value=0).reset_index()"
   ]
  },
  {
   "cell_type": "code",
   "execution_count": 29,
   "metadata": {
    "collapsed": false,
    "pycharm": {
     "name": "#%%\n"
    }
   },
   "outputs": [],
   "source": [
    "# df_fda['reactionmedrapt'].value_counts(normalize=True)"
   ]
  },
  {
   "cell_type": "code",
   "execution_count": 30,
   "id": "fc7e1caa",
   "metadata": {},
   "outputs": [],
   "source": [
    "df_fda['reactionmedrapt']=df_fda['reactionmedrapt'].astype(\"category\") #convert ractions to category\n",
    "df_fda['RiskLevel'] = df_fda['RiskLevel'].astype(\"category\")"
   ]
  },
  {
   "cell_type": "code",
   "execution_count": 31,
   "metadata": {
    "collapsed": false,
    "pycharm": {
     "name": "#%%\n"
    }
   },
   "outputs": [
    {
     "name": "stdout",
     "output_type": "stream",
     "text": [
      "                 precision    recall  f1-score   support\n",
      "\n",
      "           High    0.30264   0.28670   0.29446     96871\n",
      "       Low Risk    0.36614   0.52762   0.43230     70590\n",
      "    Medium High    0.54103   0.53833   0.53968    270675\n",
      "Medium Low Risk    0.42393   0.35213   0.38471    151524\n",
      "    Medium Risk    0.25660   0.45405   0.32790      1284\n",
      "\n",
      "       accuracy                        0.44787    590944\n",
      "      macro avg    0.37807   0.43177   0.39581    590944\n",
      "   weighted avg    0.45042   0.44787   0.44646    590944\n",
      "\n"
     ]
    },
    {
     "data": {
      "text/plain": "<Figure size 432x288 with 2 Axes>",
      "image/png": "[encoded data removed]"
     },
     "metadata": {
      "needs_background": "light"
     },
     "output_type": "display_data"
    }
   ],
   "source": [
    "#create a model data frame from main data\n",
    "modelData = df_fda.iloc[:,np.r_[15,6:9,16:516]]\n",
    "#create Train and sample data sets\n",
    "dfTrain, dfTest = train_test_split(modelData, test_size=.33, random_state=19, shuffle=True)\n",
    "\n",
    "#Create training variables X represents independet variable and y the risk level being predicted\n",
    "x_train = dfTrain.iloc[:,1:]\n",
    "y_train = dfTrain.iloc[:,0]\n",
    "x_test = dfTest.iloc[:,1:]\n",
    "y_test = dfTest.iloc[:,0]\n",
    "\n",
    "nb = MultinomialNB()\n",
    "\n",
    "nb.fit(x_train, y_train)\n",
    "y_pred = nb.predict(x_test)\n",
    "\n",
    "# sns.heatmap(confusion_matrix(y_train,nb.predict(x_train)))\n",
    "# print(classification_report(y_train,nb.predict(x_train), digits=5))\n",
    "\n",
    "sns.heatmap(confusion_matrix(y_test,y_pred))\n",
    "print(classification_report(y_test, y_pred, digits=5))"
   ]
  },
  {
   "cell_type": "code",
   "execution_count": 32,
   "metadata": {
    "collapsed": false,
    "pycharm": {
     "name": "#%%\n"
    }
   },
   "outputs": [
    {
     "name": "stdout",
     "output_type": "stream",
     "text": [
      "                 precision    recall  f1-score   support\n",
      "\n",
      "           High    0.98805   0.99006   0.98905    196900\n",
      "       Low Risk    0.97615   0.97460   0.97538    143648\n",
      "    Medium High    0.99146   0.99150   0.99148    549943\n",
      "Medium Low Risk    0.98271   0.98210   0.98241    306638\n",
      "    Medium Risk    0.91986   0.91779   0.91883      2664\n",
      "\n",
      "       accuracy                        0.98668   1199793\n",
      "      macro avg    0.97165   0.97121   0.97143   1199793\n",
      "   weighted avg    0.98667   0.98668   0.98667   1199793\n",
      "\n",
      "                 precision    recall  f1-score   support\n",
      "\n",
      "           High    0.95468   0.92111   0.93759     96871\n",
      "       Low Risk    0.91268   0.87820   0.89511     70590\n",
      "    Medium High    0.93087   0.96335   0.94683    270675\n",
      "Medium Low Risk    0.93057   0.90991   0.92013    151524\n",
      "    Medium Risk    0.89428   0.88941   0.89184      1284\n",
      "\n",
      "       accuracy                        0.93239    590944\n",
      "      macro avg    0.92462   0.91239   0.91830    590944\n",
      "   weighted avg    0.93244   0.93239   0.93217    590944\n",
      "\n"
     ]
    },
    {
     "data": {
      "text/plain": "<Figure size 432x288 with 3 Axes>",
      "image/png": "[encoded data removed]"
     },
     "metadata": {
      "needs_background": "light"
     },
     "output_type": "display_data"
    }
   ],
   "source": [
    "from sklearn.ensemble import RandomForestClassifier\n",
    "\n",
    "rf_clf = RandomForestClassifier()\n",
    "\n",
    "rf_clf.fit(x_train, y_train)\n",
    "y_pred = rf_clf.predict(x_test)\n",
    "\n",
    "sns.heatmap(confusion_matrix(y_train,rf_clf.predict(x_train)))\n",
    "print(classification_report(y_train,rf_clf.predict(x_train), digits=5))\n",
    "\n",
    "sns.heatmap(confusion_matrix(y_test,y_pred))\n",
    "print(classification_report(y_test, y_pred, digits=5))"
   ]
  },
  {
   "cell_type": "code",
   "execution_count": 33,
   "metadata": {
    "collapsed": false,
    "pycharm": {
     "name": "#%%\n"
    }
   },
   "outputs": [
    {
     "name": "stdout",
     "output_type": "stream",
     "text": [
      "                 precision    recall  f1-score   support\n",
      "\n",
      "           High    0.95468   0.92111   0.93759     96871\n",
      "       Low Risk    0.91268   0.87820   0.89511     70590\n",
      "    Medium High    0.93087   0.96335   0.94683    270675\n",
      "Medium Low Risk    0.93057   0.90991   0.92013    151524\n",
      "    Medium Risk    0.89428   0.88941   0.89184      1284\n",
      "\n",
      "       accuracy                        0.93239    590944\n",
      "      macro avg    0.92462   0.91239   0.91830    590944\n",
      "   weighted avg    0.93244   0.93239   0.93217    590944\n",
      "\n"
     ]
    },
    {
     "data": {
      "text/plain": "<Figure size 432x288 with 2 Axes>",
      "image/png": "[encoded data removed]"
     },
     "metadata": {
      "needs_background": "light"
     },
     "output_type": "display_data"
    }
   ],
   "source": [
    "sns.heatmap(confusion_matrix(y_test,y_pred))\n",
    "print(classification_report(y_test, y_pred, digits=5))"
   ]
  },
  {
   "cell_type": "markdown",
   "metadata": {
    "collapsed": false,
    "pycharm": {
     "name": "#%% md\n"
    }
   },
   "source": [
    "### Modeling 2"
   ]
  },
  {
   "cell_type": "code",
   "execution_count": 34,
   "metadata": {
    "collapsed": false,
    "pycharm": {
     "name": "#%%\n"
    }
   },
   "outputs": [
    {
     "name": "stdout",
     "output_type": "stream",
     "text": [
      "load train:  0:02:01.874811\n"
     ]
    }
   ],
   "source": [
    "# reload and clean fresh copy of data\n",
    "# claer existing DF for smoother load\n",
    "df_fda_time = pd.DataFrame(None)\n",
    "\n",
    "# read in consolidated df created in\n",
    "t=time.time()\n",
    "\n",
    "pathToData = 'X://consolidatedData.csv'\n",
    "\n",
    "df_fda = dd.read_csv(pathToData,dtype={'authoritynumb': 'object',\n",
    "       'patient.patientagegroup': 'float64',\n",
    "       'patient.patientonsetage': 'float64',\n",
    "       'patient.patientonsetageunit': 'float64',\n",
    "       'patient.patientsex': 'float64',\n",
    "       'seriousnesshospitalization': 'float64',\n",
    "       'safetyreportid': 'object',\n",
    "       'medicinalproduct':'object',\n",
    "        'reactionmedrapt':'object'})\n",
    "\n",
    "df_fda=df_fda.compute()\n",
    "\n",
    "print(\"load train: \" , str(datetime.timedelta(seconds=time.time()-t)))"
   ]
  },
  {
   "cell_type": "code",
   "execution_count": 35,
   "metadata": {
    "collapsed": false,
    "pycharm": {
     "name": "#%%\n"
    }
   },
   "outputs": [
    {
     "name": "stdout",
     "output_type": "stream",
     "text": [
      "Wall time: 1min 9s\n",
      "Compiler : 266 ms\n"
     ]
    }
   ],
   "source": [
    "%%time\n",
    "\n",
    "df_fda = df_fda.drop(columns = ['authoritynumb', 'companynumb','reportduplicate.duplicatesource',\n",
    "                                'patient.patientonsetageunit','patient.patientagegroup','primarysourcecountry','V1','index', 'receiver'])\n",
    "\n",
    "# filter out all 2 and 3's from primarysource.qualification\n",
    "# df_fda = df_fda[df_fda.primarysource.qualification != 1]\n",
    "\n",
    "# drop health professionals\n",
    "#df_fda = df_fda.drop(columns = 'primarysource.qualification')\n",
    "\n",
    "# replace nan ages with -1\n",
    "df_fda['patient.patientonsetage'] = df_fda['patient.patientonsetage'].fillna(-1)\n",
    "# filter ages drop every age over 115 (probably reporting anomalies)\n",
    "df_fda = df_fda.loc[df_fda['patient.patientonsetage'] < 115]\n",
    "# convert ages to ints\n",
    "df_fda['patient.patientonsetage'] = df_fda['patient.patientonsetage'].astype(int)\n",
    "\n",
    "# replace nan weights with -1\n",
    "df_fda['patient.patientweight'] = df_fda['patient.patientweight'].fillna(-1)\n",
    "# filter weights drop every weight over 635kg (the heaviest man ever) (probably reporting anomalies)\n",
    "df_fda = df_fda.loc[df_fda['patient.patientweight'] < 635]\n",
    "# converting to int where floats aren't needed\n",
    "df_fda['patient.patientweight'] = df_fda['patient.patientweight'].astype(int)\n",
    "\n",
    "# replace nan sex with -1\n",
    "df_fda['patient.patientsex'] = df_fda['patient.patientsex'].fillna(-1)\n",
    "# converting to int where floats aren't needed\n",
    "df_fda['patient.patientsex'] = df_fda['patient.patientsex'].astype(int)\n",
    "\n",
    "# convert potential bool values\n",
    "# fill nan with 0\n",
    "# big caveat with these conversions FALSE could indicate UNREPORTED data not just FALSE\n",
    "df_fda[['seriousnesshospitalization', 'seriousnessother','seriousnesslifethreatening', 'seriousnessdeath',\n",
    "       'seriousnesscongenitalanomali', 'seriousnessdisabling']] = \\\n",
    "       df_fda[['seriousnesshospitalization', 'seriousnessother','seriousnesslifethreatening', 'seriousnessdeath',\n",
    "              'seriousnesscongenitalanomali', 'seriousnessdisabling']].fillna(0)\n",
    "\n",
    "# convert 1/0 columns to bol\n",
    "df_fda[['seriousnesshospitalization', 'seriousnessother','seriousnesslifethreatening', 'seriousnessdeath',\n",
    "       'seriousnesscongenitalanomali', 'seriousnessdisabling']] = \\\n",
    "       df_fda[['seriousnesshospitalization', 'seriousnessother','seriousnesslifethreatening', 'seriousnessdeath',\n",
    "              'seriousnesscongenitalanomali', 'seriousnessdisabling']].astype('bool')\n",
    "\n",
    "# convert receipt date to datetime\n",
    "df_fda['receiptdate'] = pd.to_datetime(df_fda['receiptdate'],format='%Y%m%d')\n",
    "df_fda['receiptdate'] = df_fda['receiptdate'].dt.date"
   ]
  },
  {
   "cell_type": "code",
   "execution_count": 36,
   "metadata": {
    "collapsed": false,
    "pycharm": {
     "name": "#%%\n"
    }
   },
   "outputs": [
    {
     "name": "stdout",
     "output_type": "stream",
     "text": [
      "<class 'pandas.core.frame.DataFrame'>\n",
      "Int64Index: 18217492 entries, 0 to 207749\n",
      "Data columns (total 12 columns):\n",
      " #   Column                        Dtype \n",
      "---  ------                        ----- \n",
      " 0   serious                       int64 \n",
      " 1   occurcountry                  object\n",
      " 2   seriousnesshospitalization    bool  \n",
      " 3   patient.patientonsetage       int32 \n",
      " 4   patient.patientweight         int32 \n",
      " 5   patient.patientsex            int32 \n",
      " 6   seriousnessother              bool  \n",
      " 7   seriousnesslifethreatening    bool  \n",
      " 8   seriousnessdeath              bool  \n",
      " 9   seriousnesscongenitalanomali  bool  \n",
      " 10  seriousnessdisabling          bool  \n",
      " 11  medicinalproduct              object\n",
      "dtypes: bool(6), int32(3), int64(1), object(2)\n",
      "memory usage: 868.7+ MB\n"
     ]
    }
   ],
   "source": [
    "# drop some more data for this round of modeling\n",
    "\n",
    "df_fda = df_fda.drop(columns = 'primarysource.qualification')\n",
    "df_fda = df_fda.drop(columns = 'receiptdate')\n",
    "df_fda = df_fda.drop(columns = 'safetyreportid')\n",
    "df_fda = df_fda.drop(columns = 'reactionmedrapt')\n",
    "\n",
    "# clean negatives\n",
    "df_fda = df_fda.loc[df_fda['patient.patientweight'] > 0]\n",
    "df_fda = df_fda.loc[df_fda['patient.patientonsetage'] > 0]\n",
    "df_fda = df_fda.loc[df_fda['patient.patientsex'] > 0]\n",
    "\n",
    "df_fda.info()"
   ]
  },
  {
   "cell_type": "code",
   "execution_count": 37,
   "metadata": {
    "collapsed": false,
    "pycharm": {
     "name": "#%%\n"
    }
   },
   "outputs": [
    {
     "name": "stdout",
     "output_type": "stream",
     "text": [
      "<class 'pandas.core.frame.DataFrame'>\n",
      "Int64Index: 1000 entries, 23936 to 191189\n",
      "Data columns (total 12 columns):\n",
      " #   Column                        Non-Null Count  Dtype \n",
      "---  ------                        --------------  ----- \n",
      " 0   serious                       1000 non-null   int64 \n",
      " 1   occurcountry                  993 non-null    object\n",
      " 2   seriousnesshospitalization    1000 non-null   bool  \n",
      " 3   patient.patientonsetage       1000 non-null   int32 \n",
      " 4   patient.patientweight         1000 non-null   int32 \n",
      " 5   patient.patientsex            1000 non-null   int32 \n",
      " 6   seriousnessother              1000 non-null   bool  \n",
      " 7   seriousnesslifethreatening    1000 non-null   bool  \n",
      " 8   seriousnessdeath              1000 non-null   bool  \n",
      " 9   seriousnesscongenitalanomali  1000 non-null   bool  \n",
      " 10  seriousnessdisabling          1000 non-null   bool  \n",
      " 11  medicinalproduct              1000 non-null   object\n",
      "dtypes: bool(6), int32(3), int64(1), object(2)\n",
      "memory usage: 48.8+ KB\n"
     ]
    }
   ],
   "source": [
    "\n",
    "df_fda.groupby(by='medicinalproduct')\n",
    "\n",
    "sample = df_fda.sample(1000)\n",
    "sample.info()"
   ]
  },
  {
   "cell_type": "code",
   "execution_count": 38,
   "metadata": {
    "collapsed": false,
    "pycharm": {
     "name": "#%%\n"
    }
   },
   "outputs": [
    {
     "data": {
      "text/plain": "        serious occurcountry  seriousnesshospitalization  \\\n23936         2           US                       False   \n23833         1           CA                       False   \n233424        1           US                        True   \n202483        1           US                       False   \n49215         1           GB                        True   \n\n        patient.patientonsetage  patient.patientweight  patient.patientsex  \\\n23936                        80                     65                   2   \n23833                        69                     64                   2   \n233424                       78                     87                   1   \n202483                       86                     68                   2   \n49215                        86                     91                   1   \n\n        seriousnessother  seriousnesslifethreatening  seriousnessdeath  \\\n23936              False                       False             False   \n23833               True                       False             False   \n233424             False                       False             False   \n202483              True                       False             False   \n49215              False                       False             False   \n\n        seriousnesscongenitalanomali  seriousnessdisabling  \\\n23936                          False                 False   \n23833                          False                 False   \n233424                         False                 False   \n202483                         False                 False   \n49215                          False                 False   \n\n                                       medicinalproduct  \n23936                                        LORAZEPAM.  \n23833                                  DOCUSATE SODIUM.  \n233424                             AMLODIPINE BESYLATE.  \n202483  LEVOTHYROXINE SODIUM;LIOTHYRONINE HYDROCHLORIDE  \n49215                                  FERROUS FUMARATE  ",
      "text/html": "<div>\n<style scoped>\n    .dataframe tbody tr th:only-of-type {\n        vertical-align: middle;\n    }\n\n    .dataframe tbody tr th {\n        vertical-align: top;\n    }\n\n    .dataframe thead th {\n        text-align: right;\n    }\n</style>\n<table border=\"1\" class=\"dataframe\">\n  <thead>\n    <tr style=\"text-align: right;\">\n      <th></th>\n      <th>serious</th>\n      <th>occurcountry</th>\n      <th>seriousnesshospitalization</th>\n      <th>patient.patientonsetage</th>\n      <th>patient.patientweight</th>\n      <th>patient.patientsex</th>\n      <th>seriousnessother</th>\n      <th>seriousnesslifethreatening</th>\n      <th>seriousnessdeath</th>\n      <th>seriousnesscongenitalanomali</th>\n      <th>seriousnessdisabling</th>\n      <th>medicinalproduct</th>\n    </tr>\n  </thead>\n  <tbody>\n    <tr>\n      <th>23936</th>\n      <td>2</td>\n      <td>US</td>\n      <td>False</td>\n      <td>80</td>\n      <td>65</td>\n      <td>2</td>\n      <td>False</td>\n      <td>False</td>\n      <td>False</td>\n      <td>False</td>\n      <td>False</td>\n      <td>LORAZEPAM.</td>\n    </tr>\n    <tr>\n      <th>23833</th>\n      <td>1</td>\n      <td>CA</td>\n      <td>False</td>\n      <td>69</td>\n      <td>64</td>\n      <td>2</td>\n      <td>True</td>\n      <td>False</td>\n      <td>False</td>\n      <td>False</td>\n      <td>False</td>\n      <td>DOCUSATE SODIUM.</td>\n    </tr>\n    <tr>\n      <th>233424</th>\n      <td>1</td>\n      <td>US</td>\n      <td>True</td>\n      <td>78</td>\n      <td>87</td>\n      <td>1</td>\n      <td>False</td>\n      <td>False</td>\n      <td>False</td>\n      <td>False</td>\n      <td>False</td>\n      <td>AMLODIPINE BESYLATE.</td>\n    </tr>\n    <tr>\n      <th>202483</th>\n      <td>1</td>\n      <td>US</td>\n      <td>False</td>\n      <td>86</td>\n      <td>68</td>\n      <td>2</td>\n      <td>True</td>\n      <td>False</td>\n      <td>False</td>\n      <td>False</td>\n      <td>False</td>\n      <td>LEVOTHYROXINE SODIUM;LIOTHYRONINE HYDROCHLORIDE</td>\n    </tr>\n    <tr>\n      <th>49215</th>\n      <td>1</td>\n      <td>GB</td>\n      <td>True</td>\n      <td>86</td>\n      <td>91</td>\n      <td>1</td>\n      <td>False</td>\n      <td>False</td>\n      <td>False</td>\n      <td>False</td>\n      <td>False</td>\n      <td>FERROUS FUMARATE</td>\n    </tr>\n  </tbody>\n</table>\n</div>"
     },
     "execution_count": 38,
     "metadata": {},
     "output_type": "execute_result"
    }
   ],
   "source": [
    "sample.head()"
   ]
  },
  {
   "cell_type": "code",
   "execution_count": 38,
   "metadata": {
    "collapsed": false,
    "pycharm": {
     "name": "#%%\n"
    }
   },
   "outputs": [],
   "source": []
  }
 ],
 "metadata": {
  "kernelspec": {
   "display_name": "Python 3 (ipykernel)",
   "language": "python",
   "name": "python3"
  },
  "language_info": {
   "codemirror_mode": {
    "name": "ipython",
    "version": 3
   },
   "file_extension": ".py",
   "mimetype": "text/x-python",
   "name": "python",
   "nbconvert_exporter": "python",
   "pygments_lexer": "ipython3",
   "version": "3.8.8"
  }
 },
 "nbformat": 4,
 "nbformat_minor": 5
}